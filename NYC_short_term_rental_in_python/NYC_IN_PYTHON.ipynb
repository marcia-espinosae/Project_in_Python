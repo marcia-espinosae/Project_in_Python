{
 "cells": [
  {
   "cell_type": "markdown",
   "id": "1126f7f9-6af7-4f1f-adb2-ad3ec4aae598",
   "metadata": {},
   "source": [
    "## NYC Short Term Rental Analysis (Jan-Jul, 2019)"
   ]
  },
  {
   "cell_type": "markdown",
   "id": "9dab02e1-60d8-461e-9847-54826dd4a0b1",
   "metadata": {},
   "source": [
    "![This is a alt text.](NYC.jpeg \"This is a sample image.\")\n"
   ]
  },
  {
   "cell_type": "code",
   "execution_count": 1,
   "id": "ee708cd9-97b4-4714-bcba-cc2b37324225",
   "metadata": {},
   "outputs": [],
   "source": [
    "import numpy as np\n",
    "import pandas as pd\n",
    "import matplotlib.pyplot as plt\n",
    "import seaborn as sns\n",
    "import datetime"
   ]
  },
  {
   "cell_type": "code",
   "execution_count": 2,
   "id": "05b6cad6-1cb9-4f02-9817-2118f01932c2",
   "metadata": {},
   "outputs": [],
   "source": [
    "# Data doawload from https://bit.io/emiliano/DA202_Airbnb_NYC?tab=Data\n",
    "df1 = pd.read_csv('reviews.csv', index_col='listing_id')\n",
    "df1.drop('Unnamed: 0', axis=1, inplace=True)\n",
    "df2 = pd.read_csv('room_types.csv', index_col='listing_id')\n",
    "df2.drop('Unnamed: 0', axis=1, inplace=True)\n",
    "df3 = pd.read_csv('prices.csv', index_col='listing_id')\n",
    "df3.drop('Unnamed: 0', axis=1, inplace=True)"
   ]
  },
  {
   "cell_type": "code",
   "execution_count": 3,
   "id": "eebb5b4e-0cce-4991-8b98-19a50ccb1820",
   "metadata": {},
   "outputs": [
    {
     "data": {
      "text/html": [
       "<div>\n",
       "<style scoped>\n",
       "    .dataframe tbody tr th:only-of-type {\n",
       "        vertical-align: middle;\n",
       "    }\n",
       "\n",
       "    .dataframe tbody tr th {\n",
       "        vertical-align: top;\n",
       "    }\n",
       "\n",
       "    .dataframe thead th {\n",
       "        text-align: right;\n",
       "    }\n",
       "</style>\n",
       "<table border=\"1\" class=\"dataframe\">\n",
       "  <thead>\n",
       "    <tr style=\"text-align: right;\">\n",
       "      <th></th>\n",
       "      <th>host_name</th>\n",
       "      <th>last_review</th>\n",
       "      <th>minimum_nights</th>\n",
       "      <th>number_of_reviews</th>\n",
       "      <th>reviews_per_month</th>\n",
       "      <th>calculated_host_listings_count</th>\n",
       "      <th>availability_365</th>\n",
       "      <th>booked_days_365</th>\n",
       "      <th>description</th>\n",
       "      <th>room_type</th>\n",
       "      <th>price</th>\n",
       "      <th>borough</th>\n",
       "      <th>neighbourhood</th>\n",
       "      <th>price_per_month</th>\n",
       "      <th>latitude</th>\n",
       "      <th>longitude</th>\n",
       "    </tr>\n",
       "    <tr>\n",
       "      <th>listing_id</th>\n",
       "      <th></th>\n",
       "      <th></th>\n",
       "      <th></th>\n",
       "      <th></th>\n",
       "      <th></th>\n",
       "      <th></th>\n",
       "      <th></th>\n",
       "      <th></th>\n",
       "      <th></th>\n",
       "      <th></th>\n",
       "      <th></th>\n",
       "      <th></th>\n",
       "      <th></th>\n",
       "      <th></th>\n",
       "      <th></th>\n",
       "      <th></th>\n",
       "    </tr>\n",
       "  </thead>\n",
       "  <tbody>\n",
       "    <tr>\n",
       "      <th>2595</th>\n",
       "      <td>Jennifer</td>\n",
       "      <td>2019-05-21 00:00:00</td>\n",
       "      <td>1</td>\n",
       "      <td>45</td>\n",
       "      <td>0.38</td>\n",
       "      <td>2</td>\n",
       "      <td>355</td>\n",
       "      <td>10</td>\n",
       "      <td>Skylit Midtown Castle</td>\n",
       "      <td>entire home/apt</td>\n",
       "      <td>225</td>\n",
       "      <td>Manhattan</td>\n",
       "      <td>Midtown</td>\n",
       "      <td>6843.750000</td>\n",
       "      <td>40.75362</td>\n",
       "      <td>-73.98377</td>\n",
       "    </tr>\n",
       "    <tr>\n",
       "      <th>3831</th>\n",
       "      <td>LisaRoxanne</td>\n",
       "      <td>2019-07-05 00:00:00</td>\n",
       "      <td>1</td>\n",
       "      <td>270</td>\n",
       "      <td>4.64</td>\n",
       "      <td>1</td>\n",
       "      <td>194</td>\n",
       "      <td>171</td>\n",
       "      <td>Cozy Entire Floor of Brownstone</td>\n",
       "      <td>entire home/apt</td>\n",
       "      <td>89</td>\n",
       "      <td>Brooklyn</td>\n",
       "      <td>Clinton Hill</td>\n",
       "      <td>2707.083333</td>\n",
       "      <td>40.68514</td>\n",
       "      <td>-73.95976</td>\n",
       "    </tr>\n",
       "    <tr>\n",
       "      <th>5099</th>\n",
       "      <td>Chris</td>\n",
       "      <td>2019-06-22 00:00:00</td>\n",
       "      <td>3</td>\n",
       "      <td>74</td>\n",
       "      <td>0.59</td>\n",
       "      <td>1</td>\n",
       "      <td>129</td>\n",
       "      <td>236</td>\n",
       "      <td>Large Cozy 1 BR Apartment In Midtown East</td>\n",
       "      <td>entire home/apt</td>\n",
       "      <td>200</td>\n",
       "      <td>Manhattan</td>\n",
       "      <td>Murray Hill</td>\n",
       "      <td>6083.333333</td>\n",
       "      <td>40.74767</td>\n",
       "      <td>-73.97500</td>\n",
       "    </tr>\n",
       "    <tr>\n",
       "      <th>5178</th>\n",
       "      <td>Shunichi</td>\n",
       "      <td>2019-06-24 00:00:00</td>\n",
       "      <td>2</td>\n",
       "      <td>430</td>\n",
       "      <td>3.47</td>\n",
       "      <td>1</td>\n",
       "      <td>220</td>\n",
       "      <td>145</td>\n",
       "      <td>Large Furnished Room Near B'way</td>\n",
       "      <td>private room</td>\n",
       "      <td>79</td>\n",
       "      <td>Manhattan</td>\n",
       "      <td>Hell's Kitchen</td>\n",
       "      <td>2402.916667</td>\n",
       "      <td>40.76489</td>\n",
       "      <td>-73.98493</td>\n",
       "    </tr>\n",
       "    <tr>\n",
       "      <th>5238</th>\n",
       "      <td>Ben</td>\n",
       "      <td>2019-06-09 00:00:00</td>\n",
       "      <td>1</td>\n",
       "      <td>160</td>\n",
       "      <td>1.33</td>\n",
       "      <td>4</td>\n",
       "      <td>188</td>\n",
       "      <td>177</td>\n",
       "      <td>Cute &amp; Cozy Lower East Side 1 bdrm</td>\n",
       "      <td>entire home/apt</td>\n",
       "      <td>150</td>\n",
       "      <td>Manhattan</td>\n",
       "      <td>Chinatown</td>\n",
       "      <td>4562.500000</td>\n",
       "      <td>40.71344</td>\n",
       "      <td>-73.99037</td>\n",
       "    </tr>\n",
       "  </tbody>\n",
       "</table>\n",
       "</div>"
      ],
      "text/plain": [
       "              host_name          last_review  minimum_nights  \\\n",
       "listing_id                                                     \n",
       "2595           Jennifer  2019-05-21 00:00:00               1   \n",
       "3831        LisaRoxanne  2019-07-05 00:00:00               1   \n",
       "5099              Chris  2019-06-22 00:00:00               3   \n",
       "5178           Shunichi  2019-06-24 00:00:00               2   \n",
       "5238                Ben  2019-06-09 00:00:00               1   \n",
       "\n",
       "            number_of_reviews  reviews_per_month  \\\n",
       "listing_id                                         \n",
       "2595                       45               0.38   \n",
       "3831                      270               4.64   \n",
       "5099                       74               0.59   \n",
       "5178                      430               3.47   \n",
       "5238                      160               1.33   \n",
       "\n",
       "            calculated_host_listings_count  availability_365  booked_days_365  \\\n",
       "listing_id                                                                      \n",
       "2595                                     2               355               10   \n",
       "3831                                     1               194              171   \n",
       "5099                                     1               129              236   \n",
       "5178                                     1               220              145   \n",
       "5238                                     4               188              177   \n",
       "\n",
       "                                          description        room_type  price  \\\n",
       "listing_id                                                                      \n",
       "2595                            Skylit Midtown Castle  entire home/apt    225   \n",
       "3831                  Cozy Entire Floor of Brownstone  entire home/apt     89   \n",
       "5099        Large Cozy 1 BR Apartment In Midtown East  entire home/apt    200   \n",
       "5178                  Large Furnished Room Near B'way     private room     79   \n",
       "5238               Cute & Cozy Lower East Side 1 bdrm  entire home/apt    150   \n",
       "\n",
       "              borough   neighbourhood  price_per_month  latitude  longitude  \n",
       "listing_id                                                                   \n",
       "2595        Manhattan         Midtown      6843.750000  40.75362  -73.98377  \n",
       "3831         Brooklyn    Clinton Hill      2707.083333  40.68514  -73.95976  \n",
       "5099        Manhattan     Murray Hill      6083.333333  40.74767  -73.97500  \n",
       "5178        Manhattan  Hell's Kitchen      2402.916667  40.76489  -73.98493  \n",
       "5238        Manhattan       Chinatown      4562.500000  40.71344  -73.99037  "
      ]
     },
     "execution_count": 3,
     "metadata": {},
     "output_type": "execute_result"
    }
   ],
   "source": [
    "nyc = df1.merge(df2, on='listing_id', how='inner').merge(df3, on='listing_id', how='inner')\n",
    "nyc.head()"
   ]
  },
  {
   "cell_type": "code",
   "execution_count": 4,
   "id": "c1d257c7-53a5-42ee-9fc5-7e14e9ce9f91",
   "metadata": {},
   "outputs": [
    {
     "name": "stdout",
     "output_type": "stream",
     "text": [
      "<class 'pandas.core.frame.DataFrame'>\n",
      "Int64Index: 25202 entries, 2595 to 36455809\n",
      "Data columns (total 16 columns):\n",
      " #   Column                          Non-Null Count  Dtype  \n",
      "---  ------                          --------------  -----  \n",
      " 0   host_name                       25194 non-null  object \n",
      " 1   last_review                     25202 non-null  object \n",
      " 2   minimum_nights                  25202 non-null  int64  \n",
      " 3   number_of_reviews               25202 non-null  int64  \n",
      " 4   reviews_per_month               25202 non-null  float64\n",
      " 5   calculated_host_listings_count  25202 non-null  int64  \n",
      " 6   availability_365                25202 non-null  int64  \n",
      " 7   booked_days_365                 25202 non-null  int64  \n",
      " 8   description                     25192 non-null  object \n",
      " 9   room_type                       25202 non-null  object \n",
      " 10  price                           25202 non-null  int64  \n",
      " 11  borough                         25202 non-null  object \n",
      " 12  neighbourhood                   25202 non-null  object \n",
      " 13  price_per_month                 25202 non-null  float64\n",
      " 14  latitude                        25202 non-null  float64\n",
      " 15  longitude                       25202 non-null  float64\n",
      "dtypes: float64(4), int64(6), object(6)\n",
      "memory usage: 3.3+ MB\n"
     ]
    }
   ],
   "source": [
    "nyc.info()"
   ]
  },
  {
   "cell_type": "code",
   "execution_count": 5,
   "id": "e8a4df09-6beb-43fa-8bf5-4beaa622b357",
   "metadata": {},
   "outputs": [
    {
     "data": {
      "text/plain": [
       "Index(['host_name', 'last_review', 'minimum_nights', 'number_of_reviews',\n",
       "       'reviews_per_month', 'calculated_host_listings_count',\n",
       "       'availability_365', 'booked_days_365', 'description', 'room_type',\n",
       "       'price', 'borough', 'neighbourhood', 'price_per_month', 'latitude',\n",
       "       'longitude'],\n",
       "      dtype='object')"
      ]
     },
     "execution_count": 5,
     "metadata": {},
     "output_type": "execute_result"
    }
   ],
   "source": [
    "nyc.columns"
   ]
  },
  {
   "cell_type": "markdown",
   "id": "6e7152c0-036f-4480-b368-ab6329431ee3",
   "metadata": {},
   "source": [
    "# DATA VALIDATION\n",
    "\n",
    "The data consists of 25202 rows and 16 columns. The 'reviews' and 'room_types' tables have 25209 rows, while the 'price' table has 25202 rows. An inner join was performed to merge the tables and eliminate null values, and the index = 'listing_id' was present in all tables.\n",
    "\n",
    "* Listing_id = index, no duplicate values, no missing values\n",
    "* host_name = 8 missing values, replaced with 'unknown'\n",
    "* last_review = no missing values, converted data type from str to datetime\n",
    "* minimum_nights = no missing values\n",
    "* number_of_reviews = no missing values, values between 1 and 629\n",
    "* reviews_per_month = no missing values, values between 0.02 and 58.5\n",
    "* calculated_host_listings_count = no missing values, values between 1 and 327\n",
    "* availability_365 = no missing values\n",
    "* booked_days_365 = 25209 non-null  (int64 )\n",
    "* description = 10 missing values, replaced with 'uncertain'\n",
    "* room_type = no missing values, 3 categories: entire 'home/apt', 'private room', 'shared room'\n",
    "* price = 7 missing values, replaced with '0'\n",
    "* borough = Five boroughs, as expected\n",
    "* neighborhood = 216 unique values\n",
    "* price_per_month = no missing values\n",
    "* latitude = no missing values\n",
    "* longitude = no missing values\n",
    "News Columns\n",
    "* Revenue (estimated) = price * booked_days_365\n"
   ]
  },
  {
   "cell_type": "code",
   "execution_count": 6,
   "id": "48f2d173-95d1-468c-842b-978c6e86dc35",
   "metadata": {},
   "outputs": [
    {
     "name": "stdout",
     "output_type": "stream",
     "text": [
      "Number of duplicated listing_ids: 0\n",
      "Total listing_ids: 25202\n"
     ]
    }
   ],
   "source": [
    "# INDEX ('listing_id')\n",
    "# duplicate \n",
    "duplicated = nyc.index.duplicated()\n",
    "\n",
    "# Counting the number of duplicated \n",
    "num_duplicates = sum(duplicated)\n",
    "\n",
    "print(\"Number of duplicated listing_ids:\", num_duplicates)\n",
    "print(f\"Total listing_ids: {nyc.index.nunique()}\")"
   ]
  },
  {
   "cell_type": "code",
   "execution_count": 7,
   "id": "44c9b33a-a709-4a40-99ce-c00c2b9d92e7",
   "metadata": {},
   "outputs": [
    {
     "name": "stdout",
     "output_type": "stream",
     "text": [
      "null values in host_name column : 8\n",
      "null values in description column : 10\n"
     ]
    }
   ],
   "source": [
    "# Handle missing values\n",
    "for i in nyc.columns:\n",
    "  if nyc[i].isna().sum() != 0:\n",
    "    print('null values in', i, 'column :', nyc[i].isna().sum() ) "
   ]
  },
  {
   "cell_type": "code",
   "execution_count": 8,
   "id": "adcb5e74-644c-4b64-8799-a537ee11dd45",
   "metadata": {},
   "outputs": [],
   "source": [
    "# missing values 'host_name' replace with 'unknown'\n",
    "nyc['host_name'].fillna('unknown', inplace=True)"
   ]
  },
  {
   "cell_type": "code",
   "execution_count": 9,
   "id": "acc707d8-c336-4bff-b634-0de3a98401b0",
   "metadata": {},
   "outputs": [],
   "source": [
    "# column 'description' replace 10 missing values 'uncertain'\n",
    "nyc['description'].fillna('uncertain', inplace=True)"
   ]
  },
  {
   "cell_type": "code",
   "execution_count": 10,
   "id": "8aabd7e3-5280-4b03-a35d-8a79f1bdf9a0",
   "metadata": {},
   "outputs": [
    {
     "name": "stdout",
     "output_type": "stream",
     "text": [
      "datetime64[ns]\n"
     ]
    }
   ],
   "source": [
    "# column 'last_review'\n",
    "nyc['last_review'] = pd.to_datetime(nyc['last_review'])\n",
    "print(nyc['last_review'].dtype)"
   ]
  },
  {
   "cell_type": "code",
   "execution_count": 11,
   "id": "f4f34839-c9ad-470f-9671-7e3812b3dff7",
   "metadata": {},
   "outputs": [
    {
     "name": "stdout",
     "output_type": "stream",
     "text": [
      "The data was for 189 days.\n"
     ]
    }
   ],
   "source": [
    "# data_duration\n",
    "start_time = nyc['last_review'].min()\n",
    "end_time = nyc['last_review'].max()\n",
    "data_duration = (end_time - start_time).days\n",
    "\n",
    "print(f\"The data was for {data_duration} days.\")"
   ]
  },
  {
   "cell_type": "code",
   "execution_count": 12,
   "id": "5ca24a61-dcf6-491e-9a3d-9cbb04c65715",
   "metadata": {},
   "outputs": [
    {
     "name": "stdout",
     "output_type": "stream",
     "text": [
      "2019-01-01 00:00:00\n",
      "2019-07-09 00:00:00\n"
     ]
    }
   ],
   "source": [
    "print(start_time)\n",
    "print(end_time)"
   ]
  },
  {
   "cell_type": "code",
   "execution_count": 13,
   "id": "caa3abdb-d244-48ea-be31-52ad1f461472",
   "metadata": {},
   "outputs": [
    {
     "data": {
      "text/plain": [
       "Brooklyn         10460\n",
       "Manhattan        10322\n",
       "Queens            3456\n",
       "Bronx              697\n",
       "Staten Island      267\n",
       "Name: borough, dtype: int64"
      ]
     },
     "execution_count": 13,
     "metadata": {},
     "output_type": "execute_result"
    }
   ],
   "source": [
    "# column 'borough'\n",
    "nyc['borough'].value_counts()"
   ]
  },
  {
   "cell_type": "code",
   "execution_count": 14,
   "id": "9d9aa15c-bf41-41d1-9516-eeb2ca30b276",
   "metadata": {},
   "outputs": [
    {
     "data": {
      "text/plain": [
       "216"
      ]
     },
     "execution_count": 14,
     "metadata": {},
     "output_type": "execute_result"
    }
   ],
   "source": [
    "nyc['neighbourhood'].nunique()"
   ]
  },
  {
   "cell_type": "markdown",
   "id": "fbfaed0c-a394-43f9-92d1-456ccf9f8a99",
   "metadata": {},
   "source": [
    "# EDA\n",
    "* Descriptive Analysis and Correlations"
   ]
  },
  {
   "cell_type": "code",
   "execution_count": 15,
   "id": "033e1aa8-2e2d-4f71-9586-58dfd43dab7f",
   "metadata": {},
   "outputs": [
    {
     "data": {
      "image/png": "[encoded data removed]",
      "text/plain": [
       "<Figure size 1080x720 with 12 Axes>"
      ]
     },
     "metadata": {
      "needs_background": "light"
     },
     "output_type": "display_data"
    }
   ],
   "source": [
    "# distribution per variable\n",
    "nyc.hist(bins=15, figsize=(15,10));\n"
   ]
  },
  {
   "cell_type": "code",
   "execution_count": 16,
   "id": "596be948-cafa-409d-a166-7fa2dc6c0f09",
   "metadata": {},
   "outputs": [
    {
     "data": {
      "text/html": [
       "<div>\n",
       "<style scoped>\n",
       "    .dataframe tbody tr th:only-of-type {\n",
       "        vertical-align: middle;\n",
       "    }\n",
       "\n",
       "    .dataframe tbody tr th {\n",
       "        vertical-align: top;\n",
       "    }\n",
       "\n",
       "    .dataframe thead th {\n",
       "        text-align: right;\n",
       "    }\n",
       "</style>\n",
       "<table border=\"1\" class=\"dataframe\">\n",
       "  <thead>\n",
       "    <tr style=\"text-align: right;\">\n",
       "      <th></th>\n",
       "      <th>minimum_nights</th>\n",
       "      <th>number_of_reviews</th>\n",
       "      <th>reviews_per_month</th>\n",
       "      <th>calculated_host_listings_count</th>\n",
       "      <th>availability_365</th>\n",
       "      <th>booked_days_365</th>\n",
       "      <th>price</th>\n",
       "      <th>price_per_month</th>\n",
       "      <th>latitude</th>\n",
       "      <th>longitude</th>\n",
       "    </tr>\n",
       "  </thead>\n",
       "  <tbody>\n",
       "    <tr>\n",
       "      <th>count</th>\n",
       "      <td>25202.000000</td>\n",
       "      <td>25202.000000</td>\n",
       "      <td>25202.000000</td>\n",
       "      <td>25202.000000</td>\n",
       "      <td>25202.000000</td>\n",
       "      <td>25202.000000</td>\n",
       "      <td>25202.000000</td>\n",
       "      <td>25202.000000</td>\n",
       "      <td>25202.000000</td>\n",
       "      <td>25202.000000</td>\n",
       "    </tr>\n",
       "    <tr>\n",
       "      <th>mean</th>\n",
       "      <td>4.896715</td>\n",
       "      <td>40.210856</td>\n",
       "      <td>1.973993</td>\n",
       "      <td>6.147766</td>\n",
       "      <td>146.392747</td>\n",
       "      <td>218.607253</td>\n",
       "      <td>141.817316</td>\n",
       "      <td>4313.610031</td>\n",
       "      <td>40.727145</td>\n",
       "      <td>-73.947975</td>\n",
       "    </tr>\n",
       "    <tr>\n",
       "      <th>std</th>\n",
       "      <td>10.406988</td>\n",
       "      <td>55.319896</td>\n",
       "      <td>1.796687</td>\n",
       "      <td>31.359090</td>\n",
       "      <td>127.132444</td>\n",
       "      <td>127.132444</td>\n",
       "      <td>147.350650</td>\n",
       "      <td>4481.915598</td>\n",
       "      <td>0.056304</td>\n",
       "      <td>0.050951</td>\n",
       "    </tr>\n",
       "    <tr>\n",
       "      <th>min</th>\n",
       "      <td>1.000000</td>\n",
       "      <td>1.000000</td>\n",
       "      <td>0.020000</td>\n",
       "      <td>1.000000</td>\n",
       "      <td>0.000000</td>\n",
       "      <td>0.000000</td>\n",
       "      <td>10.000000</td>\n",
       "      <td>304.166667</td>\n",
       "      <td>40.506410</td>\n",
       "      <td>-74.244420</td>\n",
       "    </tr>\n",
       "    <tr>\n",
       "      <th>25%</th>\n",
       "      <td>1.000000</td>\n",
       "      <td>5.000000</td>\n",
       "      <td>0.650000</td>\n",
       "      <td>1.000000</td>\n",
       "      <td>22.000000</td>\n",
       "      <td>96.000000</td>\n",
       "      <td>69.000000</td>\n",
       "      <td>2098.750000</td>\n",
       "      <td>40.687400</td>\n",
       "      <td>-73.982608</td>\n",
       "    </tr>\n",
       "    <tr>\n",
       "      <th>50%</th>\n",
       "      <td>2.000000</td>\n",
       "      <td>18.000000</td>\n",
       "      <td>1.460000</td>\n",
       "      <td>1.000000</td>\n",
       "      <td>116.000000</td>\n",
       "      <td>249.000000</td>\n",
       "      <td>105.000000</td>\n",
       "      <td>3193.750000</td>\n",
       "      <td>40.721050</td>\n",
       "      <td>-73.953000</td>\n",
       "    </tr>\n",
       "    <tr>\n",
       "      <th>75%</th>\n",
       "      <td>4.000000</td>\n",
       "      <td>53.000000</td>\n",
       "      <td>2.840000</td>\n",
       "      <td>2.000000</td>\n",
       "      <td>269.000000</td>\n",
       "      <td>343.000000</td>\n",
       "      <td>175.000000</td>\n",
       "      <td>5322.916667</td>\n",
       "      <td>40.762577</td>\n",
       "      <td>-73.929733</td>\n",
       "    </tr>\n",
       "    <tr>\n",
       "      <th>max</th>\n",
       "      <td>365.000000</td>\n",
       "      <td>629.000000</td>\n",
       "      <td>58.500000</td>\n",
       "      <td>327.000000</td>\n",
       "      <td>365.000000</td>\n",
       "      <td>365.000000</td>\n",
       "      <td>7500.000000</td>\n",
       "      <td>228125.000000</td>\n",
       "      <td>40.913060</td>\n",
       "      <td>-73.712990</td>\n",
       "    </tr>\n",
       "  </tbody>\n",
       "</table>\n",
       "</div>"
      ],
      "text/plain": [
       "       minimum_nights  number_of_reviews  reviews_per_month  \\\n",
       "count    25202.000000       25202.000000       25202.000000   \n",
       "mean         4.896715          40.210856           1.973993   \n",
       "std         10.406988          55.319896           1.796687   \n",
       "min          1.000000           1.000000           0.020000   \n",
       "25%          1.000000           5.000000           0.650000   \n",
       "50%          2.000000          18.000000           1.460000   \n",
       "75%          4.000000          53.000000           2.840000   \n",
       "max        365.000000         629.000000          58.500000   \n",
       "\n",
       "       calculated_host_listings_count  availability_365  booked_days_365  \\\n",
       "count                    25202.000000      25202.000000     25202.000000   \n",
       "mean                         6.147766        146.392747       218.607253   \n",
       "std                         31.359090        127.132444       127.132444   \n",
       "min                          1.000000          0.000000         0.000000   \n",
       "25%                          1.000000         22.000000        96.000000   \n",
       "50%                          1.000000        116.000000       249.000000   \n",
       "75%                          2.000000        269.000000       343.000000   \n",
       "max                        327.000000        365.000000       365.000000   \n",
       "\n",
       "              price  price_per_month      latitude     longitude  \n",
       "count  25202.000000     25202.000000  25202.000000  25202.000000  \n",
       "mean     141.817316      4313.610031     40.727145    -73.947975  \n",
       "std      147.350650      4481.915598      0.056304      0.050951  \n",
       "min       10.000000       304.166667     40.506410    -74.244420  \n",
       "25%       69.000000      2098.750000     40.687400    -73.982608  \n",
       "50%      105.000000      3193.750000     40.721050    -73.953000  \n",
       "75%      175.000000      5322.916667     40.762577    -73.929733  \n",
       "max     7500.000000    228125.000000     40.913060    -73.712990  "
      ]
     },
     "execution_count": 16,
     "metadata": {},
     "output_type": "execute_result"
    }
   ],
   "source": [
    "nyc[['minimum_nights', 'number_of_reviews', 'reviews_per_month','calculated_host_listings_count', \n",
    "     'availability_365', 'booked_days_365', 'price', 'price_per_month', 'latitude', 'longitude']].describe()"
   ]
  },
  {
   "cell_type": "markdown",
   "id": "066978e7-4a94-4150-a0de-f6133c3b0b82",
   "metadata": {},
   "source": [
    "minimum_nights: The mean is approximately 4.9, which suggests that the average minimum nights required for rentals is around 4 to 5 nights. The standard deviation is relatively high (10.4), indicating a wide variation in minimum nights. The minimum value is 1 night, while the maximum value is 365 nights.\n",
    "\n",
    "number_of_reviews: average of 40 reviews per listing. The standard deviation is relatively high (55.3), indicating a wide variation in the number of reviews. The minimum number of reviews is 1, while the maximum is 629.\n",
    "\n",
    "reviews_per_month: The mean is approximately 1.97, suggesting an average of almost 2 reviews per month. The standard deviation is relatively high (1.8), indicating variation in the number of reviews per month. The minimum value is 0.02, and the maximum is 58.5.\n",
    "\n",
    "calculated_host_listings_count: The mean is approximately 6.1, suggesting that, on average, hosts have around 6 listings. The standard deviation is relatively high (31.4), indicating a wide variation in the number of listings per host. The minimum and maximum values are 1 and 327, respectively.\n",
    "\n",
    "availability_365: The mean is approximately 146.4, indicating that, on average, listings are available for approximately 146 days in a year. The standard deviation is relatively high (127.1), indicating variation in availability throughout the year. The minimum and maximum values are 0 and 365, respectively.\n",
    "\n",
    "booked_days_365: The mean is approximately 218.6, suggesting that, on average, listings are booked for around 218 days in a year. The standard deviation is relatively high (127.1), indicating variation in the number of booked days. The minimum and maximum values are 0 and 365, respectively.\n",
    "\n",
    "price: The mean price is approximately 141.8, indicating an average nightly rental price of around 141 dollar. The standard deviation is relatively high (147.4), indicating variation in rental prices. The minimum and maximum prices are 10 and 7500 dollars, respectively.\n",
    "\n",
    "price_per_month: The mean is approximately 4313.6 dollar, indicating an average monthly rental price of around 4313.6 dollar. The standard deviation is relatively high (4481.9), suggesting variation in rental prices per month. The minimum and maximum values are 304.2 and 228125 dollars, respectively."
   ]
  },
  {
   "cell_type": "code",
   "execution_count": 17,
   "id": "8c0d6861-83e2-45a1-be72-a55c6fe8c959",
   "metadata": {},
   "outputs": [
    {
     "data": {
      "image/png": "[encoded data removed]",
      "text/plain": [
       "<Figure size 864x432 with 2 Axes>"
      ]
     },
     "metadata": {
      "needs_background": "light"
     },
     "output_type": "display_data"
    }
   ],
   "source": [
    "# Correlacion \n",
    "nyc_dropped = nyc.drop(['latitude', 'longitude'], axis=1)\n",
    "\n",
    "plt.rcParams['figure.figsize'] = (12, 6)\n",
    "sns.heatmap(nyc_dropped.corr(), annot=True, cmap='Reds', linewidths=5)\n",
    "plt.suptitle('Correlation Between Variables', fontweight='heavy', x=0.03, y=0.98, ha=\"left\", fontsize='18', fontfamily='sans-serif', color=\"black\")\n",
    "\n",
    "plt.show()"
   ]
  },
  {
   "cell_type": "markdown",
   "id": "13615922-ed96-46aa-b9a3-15db841fd69e",
   "metadata": {},
   "source": [
    "# Analysis"
   ]
  },
  {
   "cell_type": "markdown",
   "id": "dc13d40e-e621-49b7-a2cf-c33e5fec66db",
   "metadata": {},
   "source": [
    "### 1) What is the most common room type in NYC Airbnb listings?"
   ]
  },
  {
   "cell_type": "code",
   "execution_count": 18,
   "id": "e4d7a62e-0326-43eb-b7f4-1dd79783d3f8",
   "metadata": {},
   "outputs": [
    {
     "data": {
      "image/png": "[encoded data removed]",
      "text/plain": [
       "<Figure size 576x432 with 1 Axes>"
      ]
     },
     "metadata": {
      "needs_background": "light"
     },
     "output_type": "display_data"
    }
   ],
   "source": [
    "# column 'room_type'\n",
    "room_type_number = nyc['room_type'].value_counts()\n",
    "total_listings = room_type_number.sum()\n",
    "\n",
    "# Calculate the percentage for each room type\n",
    "percen = (room_type_number / total_listings) * 100\n",
    "\n",
    "# Generate a color map with a unique color for each bar\n",
    "colors = plt.cm.tab10(range(len(room_type_number)))\n",
    "\n",
    "plt.figure(figsize=(8, 6))\n",
    "plt.bar(room_type_number.index, room_type_number, color=colors)\n",
    "plt.title('Number of Occurrences in Each Room Type')\n",
    "plt.xlabel('Room Type')\n",
    "plt.ylabel('Count')\n",
    "\n",
    "# Add labels and percentages to the top of each bar\n",
    "for i, count in enumerate(room_type_number):\n",
    "    percentage = percen[i]\n",
    "    plt.text(i, count, f'{count}\\n({percentage:.1f}%)', ha='center', va='bottom')\n",
    "\n",
    "plt.xticks(rotation=45)\n",
    "plt.show()"
   ]
  },
  {
   "cell_type": "markdown",
   "id": "aa1e76a8-021a-4104-833c-108aeeebcb93",
   "metadata": {},
   "source": [
    "### 2) What is the average price of the listings by room type?"
   ]
  },
  {
   "cell_type": "code",
   "execution_count": 19,
   "id": "075790c2-3873-4bd9-9c24-2b8a25918162",
   "metadata": {},
   "outputs": [
    {
     "name": "stdout",
     "output_type": "stream",
     "text": [
      "Average price for: room_type\n",
      "entire home/apt    197.17\n",
      "private room        81.67\n",
      "shared room         53.65\n",
      "Name: price, dtype: float64\n"
     ]
    }
   ],
   "source": [
    "print(f\"Average price for: {round(nyc.groupby('room_type')['price'].mean(), 2)}\")"
   ]
  },
  {
   "cell_type": "markdown",
   "id": "ef659175-504c-4dd6-933b-00b187a35495",
   "metadata": {},
   "source": [
    "### 3) Which borough has the highest average price per month? ANSWER = Manhattan 5596.69"
   ]
  },
  {
   "cell_type": "code",
   "execution_count": 20,
   "id": "5beccafb-f775-4c1a-aa15-5324b794ee3a",
   "metadata": {},
   "outputs": [
    {
     "data": {
      "image/png": "[encoded data removed]",
      "text/plain": [
       "<Figure size 576x432 with 1 Axes>"
      ]
     },
     "metadata": {
      "needs_background": "light"
     },
     "output_type": "display_data"
    }
   ],
   "source": [
    "# print(f\"Average price per month for each: {round(nyc.groupby('borough')['price_per_month'].mean().sort_values(ascending=False), 2)}\")\n",
    "avg_prices = nyc.groupby('room_type')['price'].mean()\n",
    "\n",
    "# Generate a color map with a unique color for each bar\n",
    "colors = plt.cm.tab10(range(len(avg_prices)))\n",
    "\n",
    "plt.figure(figsize=(8, 6))\n",
    "avg_prices.plot(kind='bar', color=colors)\n",
    "plt.title('Average Price of Listings by Room Type')\n",
    "plt.xlabel('Room Type')\n",
    "plt.ylabel('Average Price ($)')\n",
    "plt.xticks(rotation=45)\n",
    "\n",
    "# Add value labels to the top of each bar\n",
    "for i, price in enumerate(avg_prices):\n",
    "    plt.text(i, price, f'{price:.2f}', ha='center', va='bottom')\n",
    "\n",
    "plt.show()"
   ]
  },
  {
   "cell_type": "markdown",
   "id": "ac54bd81-4ce1-4ab3-bb31-33e3e5e6a6b8",
   "metadata": {},
   "source": [
    "### 4) How many listings of each room type are in each borough?"
   ]
  },
  {
   "cell_type": "code",
   "execution_count": 21,
   "id": "49a37727-50a9-4e44-bece-8afbc4042730",
   "metadata": {},
   "outputs": [
    {
     "name": "stdout",
     "output_type": "stream",
     "text": [
      "room_type      entire home/apt  private room  shared room\n",
      "borough                                                  \n",
      "Bronx                      261           403           33\n",
      "Brooklyn                  5367          4906          187\n",
      "Manhattan                 6170          3901          251\n",
      "Queens                    1335          2009          112\n",
      "Staten Island              133           132            2\n"
     ]
    }
   ],
   "source": [
    "# nyc.groupby(['borough', 'room_type']).size()\n",
    "# Group the data by room type and borough, and count the number of listings\n",
    "table = pd.crosstab(nyc['borough'], nyc['room_type'])\n",
    "\n",
    "# Display the table\n",
    "print(table)"
   ]
  },
  {
   "cell_type": "markdown",
   "id": "2f3dfd27-2862-4594-9261-efabe027e93d",
   "metadata": {},
   "source": [
    "### 5) How many listings in each room type category have a price greater than $500 per night?"
   ]
  },
  {
   "cell_type": "code",
   "execution_count": 22,
   "id": "3addd81f-a7ef-40d0-884b-a37d8ddec969",
   "metadata": {},
   "outputs": [
    {
     "data": {
      "text/plain": [
       "room_type\n",
       "entire home/apt    395\n",
       "private room        19\n",
       "shared room          1\n",
       "Name: price, dtype: int64"
      ]
     },
     "execution_count": 22,
     "metadata": {},
     "output_type": "execute_result"
    }
   ],
   "source": [
    "nyc.groupby('room_type')['price'].apply(lambda x: (x > 500).sum())"
   ]
  },
  {
   "cell_type": "markdown",
   "id": "5d4be81a-89a8-4f19-8721-ddfcf069bc0a",
   "metadata": {},
   "source": [
    "### 6) What is the distribution of listing prices by borough?"
   ]
  },
  {
   "cell_type": "code",
   "execution_count": 23,
   "id": "6905b984-61fc-4606-9cd9-8a608079fa67",
   "metadata": {},
   "outputs": [
    {
     "data": {
      "text/html": [
       "<div>\n",
       "<style scoped>\n",
       "    .dataframe tbody tr th:only-of-type {\n",
       "        vertical-align: middle;\n",
       "    }\n",
       "\n",
       "    .dataframe tbody tr th {\n",
       "        vertical-align: top;\n",
       "    }\n",
       "\n",
       "    .dataframe thead th {\n",
       "        text-align: right;\n",
       "    }\n",
       "</style>\n",
       "<table border=\"1\" class=\"dataframe\">\n",
       "  <thead>\n",
       "    <tr style=\"text-align: right;\">\n",
       "      <th></th>\n",
       "      <th>min</th>\n",
       "      <th>max</th>\n",
       "      <th>mean</th>\n",
       "    </tr>\n",
       "    <tr>\n",
       "      <th>borough</th>\n",
       "      <th></th>\n",
       "      <th></th>\n",
       "      <th></th>\n",
       "    </tr>\n",
       "  </thead>\n",
       "  <tbody>\n",
       "    <tr>\n",
       "      <th>Bronx</th>\n",
       "      <td>20</td>\n",
       "      <td>670</td>\n",
       "      <td>79.241033</td>\n",
       "    </tr>\n",
       "    <tr>\n",
       "      <th>Brooklyn</th>\n",
       "      <td>10</td>\n",
       "      <td>7500</td>\n",
       "      <td>121.974665</td>\n",
       "    </tr>\n",
       "    <tr>\n",
       "      <th>Manhattan</th>\n",
       "      <td>10</td>\n",
       "      <td>5100</td>\n",
       "      <td>184.000678</td>\n",
       "    </tr>\n",
       "    <tr>\n",
       "      <th>Queens</th>\n",
       "      <td>10</td>\n",
       "      <td>2600</td>\n",
       "      <td>92.813947</td>\n",
       "    </tr>\n",
       "    <tr>\n",
       "      <th>Staten Island</th>\n",
       "      <td>13</td>\n",
       "      <td>300</td>\n",
       "      <td>86.044944</td>\n",
       "    </tr>\n",
       "  </tbody>\n",
       "</table>\n",
       "</div>"
      ],
      "text/plain": [
       "               min   max        mean\n",
       "borough                             \n",
       "Bronx           20   670   79.241033\n",
       "Brooklyn        10  7500  121.974665\n",
       "Manhattan       10  5100  184.000678\n",
       "Queens          10  2600   92.813947\n",
       "Staten Island   13   300   86.044944"
      ]
     },
     "execution_count": 23,
     "metadata": {},
     "output_type": "execute_result"
    }
   ],
   "source": [
    "nyc.groupby('borough')['price'].agg(['min','max','mean'])"
   ]
  },
  {
   "cell_type": "markdown",
   "id": "f538e48d-2295-4328-9d40-e9619319140e",
   "metadata": {},
   "source": [
    "### 7) What is the estimated amount of revenue generated by hosts in each borough?"
   ]
  },
  {
   "cell_type": "code",
   "execution_count": 24,
   "id": "5f944d42-1f71-47ed-b248-80a0b2375a66",
   "metadata": {},
   "outputs": [
    {
     "data": {
      "text/plain": [
       "borough\n",
       "Manhattan        393420567\n",
       "Brooklyn         279130240\n",
       "Queens            58404083\n",
       "Bronx              9324180\n",
       "Staten Island      3443919\n",
       "Name: revenue, dtype: int64"
      ]
     },
     "execution_count": 24,
     "metadata": {},
     "output_type": "execute_result"
    }
   ],
   "source": [
    "# revenue\n",
    "nyc['revenue'] = nyc['price'] * nyc['booked_days_365']\n",
    "estimated = nyc.groupby('borough')['revenue'].sum()\n",
    "estimated.sort_values(ascending=False)"
   ]
  },
  {
   "cell_type": "markdown",
   "id": "0e30bd94-fedd-4d16-a1e5-04fbcc11383e",
   "metadata": {},
   "source": [
    "### 8) What is the average price per month for listings in each neighbourhood? "
   ]
  },
  {
   "cell_type": "code",
   "execution_count": 25,
   "id": "cbe63f8d-6ff8-4de5-98b9-c0d75939785a",
   "metadata": {},
   "outputs": [
    {
     "data": {
      "image/png": "[encoded data removed]",
      "text/plain": [
       "<Figure size 720x576 with 1 Axes>"
      ]
     },
     "metadata": {
      "needs_background": "light"
     },
     "output_type": "display_data"
    }
   ],
   "source": [
    "# nyc.groupby('neighbourhood')['price_per_month'].mean().sort_values(ascending=False)\n",
    "avg_price_per_month = nyc.groupby('neighbourhood')['price_per_month'].mean().sort_values()\n",
    "\n",
    "# Calculate the cutoff index for the top 10% of the data\n",
    "cutoff_index = int(len(avg_price_per_month) * 0.1)\n",
    "\n",
    "# Get the top 10% of the data\n",
    "top_10_avg_price_per_month = avg_price_per_month.iloc[-cutoff_index:]\n",
    "\n",
    "# Create the horizontal bar chart\n",
    "plt.figure(figsize=(10, 8))\n",
    "top_10_avg_price_per_month.plot(kind='barh', color='purple')\n",
    "\n",
    "# Set the chart title and axis labels\n",
    "plt.title('Top 10% Average Price per Month for Listings in Each Neighborhood')\n",
    "plt.xlabel('Average Price per Month ($)')\n",
    "plt.ylabel('Neighborhood')\n",
    "\n",
    "# Add value labels to the right of each bar\n",
    "for i, price in enumerate(top_10_avg_price_per_month):\n",
    "    plt.text(price, i, f'{price:.0f}', ha='left', va='center')\n",
    "\n",
    "# Show the plot\n",
    "plt.show()"
   ]
  },
  {
   "cell_type": "markdown",
   "id": "1bc92d22-6c50-46d2-bebc-22d81875e3d7",
   "metadata": {},
   "source": [
    "### 9) How many listings have no reviews? "
   ]
  },
  {
   "cell_type": "code",
   "execution_count": 26,
   "id": "4ee2649c-d244-4dfc-b174-4bcb56949ce6",
   "metadata": {},
   "outputs": [
    {
     "data": {
      "text/plain": [
       "0"
      ]
     },
     "execution_count": 26,
     "metadata": {},
     "output_type": "execute_result"
    }
   ],
   "source": [
    "len(nyc[nyc['number_of_reviews'] == 0])"
   ]
  },
  {
   "cell_type": "markdown",
   "id": "ca9abb7f-db41-4dd5-8ce8-f6c059f0c7e3",
   "metadata": {},
   "source": [
    "### 10) How do the estimated book days correlate with the price of an Airbnb listing in New York City?\n",
    "\n",
    "The correlation coefficient ranges from -1 to 1, where -1 represents a strong negative correlation, 1 represents a strong positive correlation, and 0 represents no correlation. In this case, the correlation coefficient being close to 0 (-0.0796) suggests that there is little to no linear relationship between the price and the number of days booked in a year.\n",
    "\n",
    "The negative sign of the correlation coefficient indicates that as the number of days booked in a year increases, the price tends to slightly decrease, although the correlation is weak. However, it's important to note that correlation does not imply causation, and other factors may influence the relationship between price and the number of days booked in a year."
   ]
  },
  {
   "cell_type": "code",
   "execution_count": 27,
   "id": "0662f297-79b0-4152-ab94-33316136eeb0",
   "metadata": {},
   "outputs": [
    {
     "name": "stdout",
     "output_type": "stream",
     "text": [
      "Correlation between price and book_days_365 in New York City: -0.0796\n"
     ]
    }
   ],
   "source": [
    "\n",
    "# Calculate the correlation between price and booked_days_365\n",
    "correlation = round(nyc['price'].corr(nyc['booked_days_365']), 4)\n",
    "\n",
    "print(\"Correlation between price and book_days_365 in New York City:\", correlation)"
   ]
  },
  {
   "cell_type": "markdown",
   "id": "a9a20767-071e-49d6-b9b6-ae90681f145a",
   "metadata": {},
   "source": [
    "### 11) What is the average price per room type for listings that have at least 100 reviews and are available more than 200 days a year?"
   ]
  },
  {
   "cell_type": "code",
   "execution_count": 28,
   "id": "aded00d7-6160-4649-a553-3265ae3be394",
   "metadata": {},
   "outputs": [
    {
     "data": {
      "text/plain": [
       "room_type\n",
       "entire home/apt    179.540163\n",
       "private room        85.406149\n",
       "shared room         59.190476\n",
       "Name: price, dtype: float64"
      ]
     },
     "execution_count": 28,
     "metadata": {},
     "output_type": "execute_result"
    }
   ],
   "source": [
    "# filter\n",
    "filt = nyc[(nyc['number_of_reviews'] >= 100) & (nyc['availability_365'] > 200)]\n",
    "avg_ppr_type = filt.groupby('room_type')['price'].mean()\n",
    "avg_ppr_type"
   ]
  },
  {
   "cell_type": "markdown",
   "id": "f0c28839-c5f9-4ba7-941b-f26acd813b75",
   "metadata": {},
   "source": [
    "### 12) How many hosts have more than one listing, and what's the maximum number of listings by a single host name?"
   ]
  },
  {
   "cell_type": "code",
   "execution_count": 29,
   "id": "ca007b6d-e154-421f-9e79-3801f2a314ce",
   "metadata": {},
   "outputs": [
    {
     "name": "stdout",
     "output_type": "stream",
     "text": [
      "Number of hosts with more than one listing: 10440\n",
      "Maximum number of listings by a single host: 327\n"
     ]
    }
   ],
   "source": [
    "number = len(nyc[nyc['calculated_host_listings_count'] > 1])\n",
    "maximum = nyc['calculated_host_listings_count'].max()\n",
    "\n",
    "print(\"Number of hosts with more than one listing:\", number)\n",
    "print(\"Maximum number of listings by a single host:\", maximum)"
   ]
  },
  {
   "cell_type": "markdown",
   "id": "bc745777-79b7-4395-8d2a-c6f202683070",
   "metadata": {},
   "source": [
    "### 13) Determine the top 5 hosts who have the highest price_per_month for their listings, considering only hosts who have at least 10 listings."
   ]
  },
  {
   "cell_type": "code",
   "execution_count": 30,
   "id": "66509e0d-c42b-4b3b-9e0e-99279647ccc2",
   "metadata": {},
   "outputs": [
    {
     "name": "stdout",
     "output_type": "stream",
     "text": [
      "host_name\n",
      "Sally         109895.416700\n",
      "Red Awning     21452.580644\n",
      "Park Lane      12318.749998\n",
      "Janet          11334.010415\n",
      "Yotel           8749.861110\n",
      "Name: price_per_month, dtype: float64\n"
     ]
    }
   ],
   "source": [
    "# Filter listings based on hosts with at least 10 listings\n",
    "filtered_listings = nyc[nyc['calculated_host_listings_count'] >= 10]\n",
    "\n",
    "# Calculate the average price_per_month for each host\n",
    "avg_price_per_month = filtered_listings.groupby('host_name')['price_per_month'].mean()\n",
    "\n",
    "# Sort the hosts by average price_per_month in descending order\n",
    "sorted_hosts = avg_price_per_month.sort_values(ascending=False)\n",
    "\n",
    "# Select the top 5 hosts with the highest average price_per_month\n",
    "top_5_hosts = sorted_hosts.head(5)\n",
    "\n",
    "# Display the top 5 hosts and their average price_per_month\n",
    "print(top_5_hosts)"
   ]
  },
  {
   "cell_type": "markdown",
   "id": "156cd911-d928-4bb6-8c76-c74d6f6f95c1",
   "metadata": {},
   "source": [
    "### 14) Find the neighbourhood(s) that have the highest variance in listing prices."
   ]
  },
  {
   "cell_type": "code",
   "execution_count": 31,
   "id": "01ca79c7-9e64-44f5-bb46-e169096a40a2",
   "metadata": {},
   "outputs": [
    {
     "name": "stdout",
     "output_type": "stream",
     "text": [
      "neighbourhood\n",
      "Sea Gate         924800.000000\n",
      "Bayside          230283.443122\n",
      "East Flatbush    173518.919274\n",
      "SoHo             122866.073519\n",
      "Tribeca           98547.144809\n",
      "Name: price, dtype: float64\n"
     ]
    }
   ],
   "source": [
    "variance =nyc.groupby('neighbourhood')['price'].var().sort_values(ascending=False)\n",
    "print(variance.head())"
   ]
  },
  {
   "cell_type": "markdown",
   "id": "3cab50f9-5857-4a33-8835-914983d22dd1",
   "metadata": {},
   "source": [
    "### 15) Calculate the average price_per_month for each neighbourhood, taking into account only listings where the host has a minimum_nights value that is higher than the average minimum_nights value across all listings.\n"
   ]
  },
  {
   "cell_type": "code",
   "execution_count": 32,
   "id": "0f2a50d7-2e61-406f-9599-1c3124136913",
   "metadata": {},
   "outputs": [
    {
     "name": "stdout",
     "output_type": "stream",
     "text": [
      "Average price_per_month for each neighborhood (with minimum_nights > average):\n",
      "neighbourhood\n",
      "Bayside              11949.947916\n",
      "Tribeca              11791.527778\n",
      "Flatiron District    10172.685185\n",
      "SoHo                  9549.232456\n",
      "NoHo                  9374.036458\n",
      "Name: price_per_month, dtype: float64\n"
     ]
    }
   ],
   "source": [
    "avg_min_nights = nyc['minimum_nights'].mean()\n",
    "\n",
    "filtered = nyc[nyc['minimum_nights'] > avg_min_nights]\n",
    "\n",
    "average_ppm = filtered.groupby('neighbourhood')['price_per_month'].mean()\n",
    "\n",
    "print(\"Average price_per_month for each neighborhood (with minimum_nights > average):\")\n",
    "print(average_ppm.sort_values(ascending=False).head())"
   ]
  },
  {
   "cell_type": "markdown",
   "id": "33200258-3bee-46b6-b866-599c84b7dd0f",
   "metadata": {},
   "source": [
    "16) What is the average length of stay for short-term rentals in New York City, and how does this vary by neighborhood and room type?"
   ]
  },
  {
   "cell_type": "code",
   "execution_count": 33,
   "id": "21b8df67-6192-41c5-96ed-63837813afa1",
   "metadata": {},
   "outputs": [
    {
     "name": "stdout",
     "output_type": "stream",
     "text": [
      "Average Length of Stay by Neighborhood and room Type:\n",
      "neighbourhood      room_type      \n",
      "Claremont Village  entire home/apt    32.000000\n",
      "Great Kills        entire home/apt    17.250000\n",
      "East Flatbush      shared room        15.500000\n",
      "Lower East Side    shared room        14.866667\n",
      "Hunts Point        private room       14.750000\n",
      "Name: minimum_nights, dtype: float64\n"
     ]
    }
   ],
   "source": [
    "# Group the data by neighborhood and property type, and calculate the average length of stay\n",
    "average_length_of_stay = nyc.groupby(['neighbourhood', 'room_type'])['minimum_nights'].mean()\n",
    "\n",
    "print(\"Average Length of Stay by Neighborhood and room Type:\")\n",
    "print(average_length_of_stay.sort_values(ascending=False).head())"
   ]
  },
  {
   "cell_type": "markdown",
   "id": "2394c987-743d-43ff-8e0f-a7709b8b533b",
   "metadata": {},
   "source": [
    "17) How has demand for short-term rentals in New York City changed over time, and are there any seasonal trends that could impact business decisions?"
   ]
  },
  {
   "cell_type": "code",
   "execution_count": 34,
   "id": "d6cee058-bc5f-45d8-83fd-704a7053386b",
   "metadata": {},
   "outputs": [],
   "source": [
    "# column\n",
    "nyc['month'] = nyc['last_review'].dt.month\n",
    "# Calculate occupancy rate\n",
    "nyc['occupancy_rate'] = nyc['booked_days_365'] / nyc['availability_365']"
   ]
  },
  {
   "cell_type": "code",
   "execution_count": 35,
   "id": "0d8cae2a-49ab-45eb-b387-f19e82fca31c",
   "metadata": {},
   "outputs": [],
   "source": [
    "# Segment the data\n",
    "demand_by_month = nyc.groupby('month')['occupancy_rate'].median()"
   ]
  },
  {
   "cell_type": "code",
   "execution_count": 36,
   "id": "795f3449-273d-4440-9da1-a4390b32eb6a",
   "metadata": {},
   "outputs": [
    {
     "data": {
      "image/png": "[encoded data removed]",
      "text/plain": [
       "<Figure size 576x432 with 1 Axes>"
      ]
     },
     "metadata": {
      "needs_background": "light"
     },
     "output_type": "display_data"
    }
   ],
   "source": [
    "# Line plot for overall demand by month\n",
    "plt.figure(figsize=(8, 6))\n",
    "plt.plot(demand_by_month.index, demand_by_month.values, marker='o')\n",
    "plt.title('Overall Demand for Short-term Rentals in NYC by Month')\n",
    "plt.xlabel('Month')\n",
    "plt.ylabel('Occupancy Rate (%)')\n",
    "plt.xticks(range(1, 13))\n",
    "plt.show()\n",
    "\n"
   ]
  },
  {
   "cell_type": "code",
   "execution_count": 37,
   "id": "1ebc8917-c5ad-4969-b8cd-fc783b96460b",
   "metadata": {},
   "outputs": [
    {
     "data": {
      "text/plain": [
       "2.146551724137931"
      ]
     },
     "execution_count": 37,
     "metadata": {},
     "output_type": "execute_result"
    }
   ],
   "source": [
    "nyc['occupancy_rate'].median()"
   ]
  },
  {
   "cell_type": "code",
   "execution_count": 38,
   "id": "4192be8e-6b8a-43c1-9609-c2876dcde8bf",
   "metadata": {},
   "outputs": [
    {
     "data": {
      "text/plain": [
       "17838"
      ]
     },
     "execution_count": 38,
     "metadata": {},
     "output_type": "execute_result"
    }
   ],
   "source": [
    "nyc['host_name'].duplicated().sum()"
   ]
  },
  {
   "cell_type": "code",
   "execution_count": 39,
   "id": "5cfa6637-4f82-4783-ade2-b27b3fce0b08",
   "metadata": {},
   "outputs": [
    {
     "data": {
      "text/plain": [
       "month\n",
       "1     1440\n",
       "2      470\n",
       "3      820\n",
       "4     1456\n",
       "5     3695\n",
       "6    12596\n",
       "7     4725\n",
       "Name: number_of_reviews, dtype: int64"
      ]
     },
     "execution_count": 39,
     "metadata": {},
     "output_type": "execute_result"
    }
   ],
   "source": [
    "nyc.groupby('month')['number_of_reviews'].count()"
   ]
  },
  {
   "cell_type": "code",
   "execution_count": 40,
   "id": "2e0ceacd-0e79-4485-9057-89cd6d0322c4",
   "metadata": {},
   "outputs": [
    {
     "data": {
      "text/plain": [
       "25202"
      ]
     },
     "execution_count": 40,
     "metadata": {},
     "output_type": "execute_result"
    }
   ],
   "source": [
    "nyc['reviews_per_month'].count()"
   ]
  },
  {
   "cell_type": "code",
   "execution_count": 41,
   "id": "33ccaa5c-80e5-4cba-9270-8ad6374834c8",
   "metadata": {},
   "outputs": [
    {
     "data": {
      "text/plain": [
       "season\n",
       "Spring     5971\n",
       "Summer    17321\n",
       "Winter     1910\n",
       "Name: season, dtype: int64"
      ]
     },
     "execution_count": 41,
     "metadata": {},
     "output_type": "execute_result"
    }
   ],
   "source": [
    "def map_season(month):\n",
    "    if month in [3, 4, 5]:\n",
    "        return 'Spring'\n",
    "    elif month in [6, 7, 8]:\n",
    "        return 'Summer'\n",
    "    elif month in [9, 10, 11]:\n",
    "        return 'Fall'\n",
    "    else:\n",
    "        return 'Winter'\n",
    "\n",
    "nyc['season'] = nyc['month'].apply(map_season)\n",
    "nyc.groupby('season')['season'].count()"
   ]
  },
  {
   "cell_type": "code",
   "execution_count": 44,
   "id": "7263e25c-f098-4196-9ddb-611f6c0f3fde",
   "metadata": {},
   "outputs": [
    {
     "data": {
      "text/plain": [
       "5509340"
      ]
     },
     "execution_count": 44,
     "metadata": {},
     "output_type": "execute_result"
    }
   ],
   "source": [
    "nyc['booked_days_365'].sum()"
   ]
  },
  {
   "cell_type": "code",
   "execution_count": 47,
   "id": "4eb54f15-f94e-4207-8b57-1c70e8f7cd09",
   "metadata": {},
   "outputs": [
    {
     "data": {
      "text/plain": [
       "listing_id\n",
       "2595        365\n",
       "3831        365\n",
       "5099        365\n",
       "5178        365\n",
       "5238        365\n",
       "           ... \n",
       "36425863    365\n",
       "36427429    365\n",
       "36438336    365\n",
       "36442252    365\n",
       "36455809    365\n",
       "Length: 25202, dtype: int64"
      ]
     },
     "execution_count": 47,
     "metadata": {},
     "output_type": "execute_result"
    }
   ],
   "source": [
    "sum = nyc['booked_days_365'] + nyc['availability_365']\n",
    "sum"
   ]
  },
  {
   "cell_type": "code",
   "execution_count": null,
   "id": "d3102f14-d8b6-47ef-95fe-598f0924da3e",
   "metadata": {},
   "outputs": [],
   "source": []
  }
 ],
 "metadata": {
  "kernelspec": {
   "display_name": "Python 3 (ipykernel)",
   "language": "python",
   "name": "python3"
  },
  "language_info": {
   "codemirror_mode": {
    "name": "ipython",
    "version": 3
   },
   "file_extension": ".py",
   "mimetype": "text/x-python",
   "name": "python",
   "nbconvert_exporter": "python",
   "pygments_lexer": "ipython3",
   "version": "3.9.12"
  }
 },
 "nbformat": 4,
 "nbformat_minor": 5
}
