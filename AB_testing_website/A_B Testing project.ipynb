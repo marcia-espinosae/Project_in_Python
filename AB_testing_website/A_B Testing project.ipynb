{
 "cells": [
  {
   "cell_type": "markdown",
   "id": "59e1852c",
   "metadata": {},
   "source": [
    "# Libraries used"
   ]
  },
  {
   "cell_type": "code",
   "execution_count": 1,
   "id": "94a956f5",
   "metadata": {},
   "outputs": [],
   "source": [
    "import pandas as pd\n",
    "import numpy as np\n",
    "import datetime\n",
    "import scipy.stats as stats\n",
    "from scipy.stats import t\n",
    "import math\n",
    "import statsmodels.api as sm\n",
    "from statsmodels.stats import proportion\n",
    "import matplotlib.pyplot as plt"
   ]
  },
  {
   "cell_type": "markdown",
   "id": "7c991f37",
   "metadata": {},
   "source": [
    "# Data Collection"
   ]
  },
  {
   "cell_type": "markdown",
   "id": "98fdcd6c",
   "metadata": {},
   "source": [
    "Data set delivered by Masterschool:\n",
    "3 files download from https://bit.io"
   ]
  },
  {
   "cell_type": "code",
   "execution_count": 2,
   "id": "dbb5fe7b",
   "metadata": {},
   "outputs": [
    {
     "name": "stdout",
     "output_type": "stream",
     "text": [
      "(48943, 3)\n",
      "(48943, 4)\n",
      "(2233, 4)\n"
     ]
    }
   ],
   "source": [
    "df1 = pd.read_csv('users.csv') # user demographic information\n",
    "df2 = pd.read_csv('groups.csv') # user A/B test group assignment\n",
    "df3 = pd.read_csv('activity.csv') # user purchase activity, containing 1 row per day that a user made a purchase\n",
    "\n",
    "print(df1.shape)\n",
    "print(df2.shape)\n",
    "print(df3.shape)"
   ]
  },
  {
   "cell_type": "markdown",
   "id": "ef1f6337",
   "metadata": {},
   "source": [
    "# Join\n",
    "Merge all csv files together by id"
   ]
  },
  {
   "cell_type": "code",
   "execution_count": 3,
   "id": "ecb07424",
   "metadata": {},
   "outputs": [
    {
     "data": {
      "text/html": [
       "<div>\n",
       "<style scoped>\n",
       "    .dataframe tbody tr th:only-of-type {\n",
       "        vertical-align: middle;\n",
       "    }\n",
       "\n",
       "    .dataframe tbody tr th {\n",
       "        vertical-align: top;\n",
       "    }\n",
       "\n",
       "    .dataframe thead th {\n",
       "        text-align: right;\n",
       "    }\n",
       "</style>\n",
       "<table border=\"1\" class=\"dataframe\">\n",
       "  <thead>\n",
       "    <tr style=\"text-align: right;\">\n",
       "      <th></th>\n",
       "      <th>id</th>\n",
       "      <th>country</th>\n",
       "      <th>gender</th>\n",
       "      <th>group</th>\n",
       "      <th>join_dt</th>\n",
       "      <th>dt</th>\n",
       "      <th>device</th>\n",
       "      <th>spent</th>\n",
       "    </tr>\n",
       "  </thead>\n",
       "  <tbody>\n",
       "    <tr>\n",
       "      <th>0</th>\n",
       "      <td>1000000</td>\n",
       "      <td>CAN</td>\n",
       "      <td>M</td>\n",
       "      <td>B</td>\n",
       "      <td>2023-01-28</td>\n",
       "      <td>NaN</td>\n",
       "      <td>NaN</td>\n",
       "      <td>NaN</td>\n",
       "    </tr>\n",
       "    <tr>\n",
       "      <th>1</th>\n",
       "      <td>1000001</td>\n",
       "      <td>BRA</td>\n",
       "      <td>M</td>\n",
       "      <td>A</td>\n",
       "      <td>2023-01-27</td>\n",
       "      <td>NaN</td>\n",
       "      <td>NaN</td>\n",
       "      <td>NaN</td>\n",
       "    </tr>\n",
       "    <tr>\n",
       "      <th>2</th>\n",
       "      <td>1000002</td>\n",
       "      <td>FRA</td>\n",
       "      <td>M</td>\n",
       "      <td>A</td>\n",
       "      <td>2023-02-01</td>\n",
       "      <td>NaN</td>\n",
       "      <td>NaN</td>\n",
       "      <td>NaN</td>\n",
       "    </tr>\n",
       "    <tr>\n",
       "      <th>3</th>\n",
       "      <td>1000003</td>\n",
       "      <td>BRA</td>\n",
       "      <td>M</td>\n",
       "      <td>B</td>\n",
       "      <td>2023-01-25</td>\n",
       "      <td>NaN</td>\n",
       "      <td>NaN</td>\n",
       "      <td>NaN</td>\n",
       "    </tr>\n",
       "    <tr>\n",
       "      <th>4</th>\n",
       "      <td>1000004</td>\n",
       "      <td>DEU</td>\n",
       "      <td>F</td>\n",
       "      <td>A</td>\n",
       "      <td>2023-02-04</td>\n",
       "      <td>NaN</td>\n",
       "      <td>NaN</td>\n",
       "      <td>NaN</td>\n",
       "    </tr>\n",
       "  </tbody>\n",
       "</table>\n",
       "</div>"
      ],
      "text/plain": [
       "        id country gender group     join_dt   dt device  spent\n",
       "0  1000000     CAN      M     B  2023-01-28  NaN    NaN    NaN\n",
       "1  1000001     BRA      M     A  2023-01-27  NaN    NaN    NaN\n",
       "2  1000002     FRA      M     A  2023-02-01  NaN    NaN    NaN\n",
       "3  1000003     BRA      M     B  2023-01-25  NaN    NaN    NaN\n",
       "4  1000004     DEU      F     A  2023-02-04  NaN    NaN    NaN"
      ]
     },
     "execution_count": 3,
     "metadata": {},
     "output_type": "execute_result"
    }
   ],
   "source": [
    "# join data\n",
    "globox = df1.merge(df2[['group', 'join_dt', 'device', 'uid']], how = 'inner',\n",
    "                left_on = 'id', right_on = 'uid').drop(columns = ['uid', 'device']).merge(df3[['uid', 'dt', 'device', 'spent']],how = 'left',\n",
    "                left_on = 'id', right_on = 'uid').drop(columns = ['uid'])\n",
    "globox.head()"
   ]
  },
  {
   "cell_type": "markdown",
   "id": "984436ca",
   "metadata": {},
   "source": [
    "# EDA"
   ]
  },
  {
   "cell_type": "code",
   "execution_count": 4,
   "id": "0f4e8480",
   "metadata": {},
   "outputs": [
    {
     "name": "stdout",
     "output_type": "stream",
     "text": [
      "<class 'pandas.core.frame.DataFrame'>\n",
      "Int64Index: 49082 entries, 0 to 49081\n",
      "Data columns (total 8 columns):\n",
      " #   Column   Non-Null Count  Dtype  \n",
      "---  ------   --------------  -----  \n",
      " 0   id       49082 non-null  int64  \n",
      " 1   country  48435 non-null  object \n",
      " 2   gender   42200 non-null  object \n",
      " 3   group    49082 non-null  object \n",
      " 4   join_dt  49082 non-null  object \n",
      " 5   dt       2233 non-null   object \n",
      " 6   device   2223 non-null   object \n",
      " 7   spent    2233 non-null   float64\n",
      "dtypes: float64(1), int64(1), object(6)\n",
      "memory usage: 3.4+ MB\n",
      "None\n"
     ]
    }
   ],
   "source": [
    "# information about data\n",
    "print(globox.info())"
   ]
  },
  {
   "cell_type": "code",
   "execution_count": 5,
   "id": "98b61498",
   "metadata": {},
   "outputs": [],
   "source": [
    "# Display all columns and rows\n",
    "pd.set_option('display.max_columns', 8) \n",
    "pd.set_option('display.max_rows', 49082)"
   ]
  },
  {
   "cell_type": "code",
   "execution_count": 6,
   "id": "27152ee9",
   "metadata": {},
   "outputs": [
    {
     "data": {
      "text/html": [
       "<div>\n",
       "<style scoped>\n",
       "    .dataframe tbody tr th:only-of-type {\n",
       "        vertical-align: middle;\n",
       "    }\n",
       "\n",
       "    .dataframe tbody tr th {\n",
       "        vertical-align: top;\n",
       "    }\n",
       "\n",
       "    .dataframe thead th {\n",
       "        text-align: right;\n",
       "    }\n",
       "</style>\n",
       "<table border=\"1\" class=\"dataframe\">\n",
       "  <thead>\n",
       "    <tr style=\"text-align: right;\">\n",
       "      <th>group</th>\n",
       "      <th>A</th>\n",
       "      <th>B</th>\n",
       "    </tr>\n",
       "    <tr>\n",
       "      <th>group</th>\n",
       "      <th></th>\n",
       "      <th></th>\n",
       "    </tr>\n",
       "  </thead>\n",
       "  <tbody>\n",
       "    <tr>\n",
       "      <th>A</th>\n",
       "      <td>24402</td>\n",
       "      <td>0</td>\n",
       "    </tr>\n",
       "    <tr>\n",
       "      <th>B</th>\n",
       "      <td>0</td>\n",
       "      <td>24680</td>\n",
       "    </tr>\n",
       "  </tbody>\n",
       "</table>\n",
       "</div>"
      ],
      "text/plain": [
       "group      A      B\n",
       "group              \n",
       "A      24402      0\n",
       "B          0  24680"
      ]
     },
     "execution_count": 6,
     "metadata": {},
     "output_type": "execute_result"
    }
   ],
   "source": [
    "pd.crosstab(globox['group'], globox['group'])"
   ]
  },
  {
   "cell_type": "code",
   "execution_count": 7,
   "id": "4c9f5cc2",
   "metadata": {},
   "outputs": [
    {
     "data": {
      "text/html": [
       "<div>\n",
       "<style scoped>\n",
       "    .dataframe tbody tr th:only-of-type {\n",
       "        vertical-align: middle;\n",
       "    }\n",
       "\n",
       "    .dataframe tbody tr th {\n",
       "        vertical-align: top;\n",
       "    }\n",
       "\n",
       "    .dataframe thead th {\n",
       "        text-align: right;\n",
       "    }\n",
       "</style>\n",
       "<table border=\"1\" class=\"dataframe\">\n",
       "  <thead>\n",
       "    <tr style=\"text-align: right;\">\n",
       "      <th>gender</th>\n",
       "      <th>F</th>\n",
       "      <th>M</th>\n",
       "      <th>O</th>\n",
       "    </tr>\n",
       "    <tr>\n",
       "      <th>group</th>\n",
       "      <th></th>\n",
       "      <th></th>\n",
       "      <th></th>\n",
       "    </tr>\n",
       "  </thead>\n",
       "  <tbody>\n",
       "    <tr>\n",
       "      <th>A</th>\n",
       "      <td>10104</td>\n",
       "      <td>10069</td>\n",
       "      <td>809</td>\n",
       "    </tr>\n",
       "    <tr>\n",
       "      <th>B</th>\n",
       "      <td>10096</td>\n",
       "      <td>10258</td>\n",
       "      <td>864</td>\n",
       "    </tr>\n",
       "  </tbody>\n",
       "</table>\n",
       "</div>"
      ],
      "text/plain": [
       "gender      F      M    O\n",
       "group                    \n",
       "A       10104  10069  809\n",
       "B       10096  10258  864"
      ]
     },
     "execution_count": 7,
     "metadata": {},
     "output_type": "execute_result"
    }
   ],
   "source": [
    "pd.crosstab(globox['group'], globox['gender'])"
   ]
  },
  {
   "cell_type": "code",
   "execution_count": 8,
   "id": "9d0aa8cc",
   "metadata": {},
   "outputs": [
    {
     "data": {
      "text/html": [
       "<div>\n",
       "<style scoped>\n",
       "    .dataframe tbody tr th:only-of-type {\n",
       "        vertical-align: middle;\n",
       "    }\n",
       "\n",
       "    .dataframe tbody tr th {\n",
       "        vertical-align: top;\n",
       "    }\n",
       "\n",
       "    .dataframe thead th {\n",
       "        text-align: right;\n",
       "    }\n",
       "</style>\n",
       "<table border=\"1\" class=\"dataframe\">\n",
       "  <thead>\n",
       "    <tr style=\"text-align: right;\">\n",
       "      <th>country</th>\n",
       "      <th>AUS</th>\n",
       "      <th>BRA</th>\n",
       "      <th>CAN</th>\n",
       "      <th>DEU</th>\n",
       "      <th>ESP</th>\n",
       "      <th>FRA</th>\n",
       "      <th>GBR</th>\n",
       "      <th>MEX</th>\n",
       "      <th>TUR</th>\n",
       "      <th>USA</th>\n",
       "    </tr>\n",
       "    <tr>\n",
       "      <th>group</th>\n",
       "      <th></th>\n",
       "      <th></th>\n",
       "      <th></th>\n",
       "      <th></th>\n",
       "      <th></th>\n",
       "      <th></th>\n",
       "      <th></th>\n",
       "      <th></th>\n",
       "      <th></th>\n",
       "      <th></th>\n",
       "    </tr>\n",
       "  </thead>\n",
       "  <tbody>\n",
       "    <tr>\n",
       "      <th>A</th>\n",
       "      <td>608</td>\n",
       "      <td>4818</td>\n",
       "      <td>770</td>\n",
       "      <td>1912</td>\n",
       "      <td>997</td>\n",
       "      <td>1539</td>\n",
       "      <td>1457</td>\n",
       "      <td>2820</td>\n",
       "      <td>1852</td>\n",
       "      <td>7330</td>\n",
       "    </tr>\n",
       "    <tr>\n",
       "      <th>B</th>\n",
       "      <td>560</td>\n",
       "      <td>4635</td>\n",
       "      <td>803</td>\n",
       "      <td>1958</td>\n",
       "      <td>1003</td>\n",
       "      <td>1558</td>\n",
       "      <td>1501</td>\n",
       "      <td>2934</td>\n",
       "      <td>1889</td>\n",
       "      <td>7491</td>\n",
       "    </tr>\n",
       "  </tbody>\n",
       "</table>\n",
       "</div>"
      ],
      "text/plain": [
       "country  AUS   BRA  CAN   DEU   ESP   FRA   GBR   MEX   TUR   USA\n",
       "group                                                            \n",
       "A        608  4818  770  1912   997  1539  1457  2820  1852  7330\n",
       "B        560  4635  803  1958  1003  1558  1501  2934  1889  7491"
      ]
     },
     "execution_count": 8,
     "metadata": {},
     "output_type": "execute_result"
    }
   ],
   "source": [
    "country = pd.crosstab(globox['group'], globox['country'])\n",
    "pd.set_option('display.max_columns',10)\n",
    "country"
   ]
  },
  {
   "cell_type": "code",
   "execution_count": 9,
   "id": "246e5bd3",
   "metadata": {},
   "outputs": [
    {
     "name": "stdout",
     "output_type": "stream",
     "text": [
      "group\n",
      "A    82145.90\n",
      "B    83415.33\n",
      "Name: spent, dtype: float64\n"
     ]
    }
   ],
   "source": [
    "sum_spent = globox.groupby('group')['spent'].sum()\n",
    "print(round(sum_spent, 2))"
   ]
  },
  {
   "cell_type": "code",
   "execution_count": 10,
   "id": "214cc8f6",
   "metadata": {},
   "outputs": [
    {
     "data": {
      "image/png": "[encoded data removed]",
      "text/plain": [
       "<Figure size 720x432 with 1 Axes>"
      ]
     },
     "metadata": {
      "needs_background": "light"
     },
     "output_type": "display_data"
    }
   ],
   "source": [
    "# Group the data by group and country, and calculate the mean of the spent column for each group\n",
    "grouped_data = globox.groupby(['group','country'])['spent'].mean().reset_index()\n",
    "\n",
    "# Pivot the data to create separate columns for each group\n",
    "pivoted_data = grouped_data.pivot(index='country', columns='group', values='spent')\n",
    "\n",
    "# Create a bar plot of the means for each group by country\n",
    "pivoted_data.plot(kind='bar', figsize=(10, 6))\n",
    "plt.xlabel('Country')\n",
    "plt.ylabel('Mean Spent')\n",
    "plt.title('Mean Spent by Country and Group')\n",
    "plt.show()"
   ]
  },
  {
   "cell_type": "code",
   "execution_count": 11,
   "id": "ba33c53c",
   "metadata": {},
   "outputs": [
    {
     "data": {
      "text/html": [
       "<div>\n",
       "<style scoped>\n",
       "    .dataframe tbody tr th:only-of-type {\n",
       "        vertical-align: middle;\n",
       "    }\n",
       "\n",
       "    .dataframe tbody tr th {\n",
       "        vertical-align: top;\n",
       "    }\n",
       "\n",
       "    .dataframe thead th {\n",
       "        text-align: right;\n",
       "    }\n",
       "</style>\n",
       "<table border=\"1\" class=\"dataframe\">\n",
       "  <thead>\n",
       "    <tr style=\"text-align: right;\">\n",
       "      <th></th>\n",
       "      <th>count</th>\n",
       "      <th>mean</th>\n",
       "      <th>std</th>\n",
       "      <th>min</th>\n",
       "      <th>25%</th>\n",
       "      <th>50%</th>\n",
       "      <th>75%</th>\n",
       "      <th>max</th>\n",
       "    </tr>\n",
       "    <tr>\n",
       "      <th>group</th>\n",
       "      <th></th>\n",
       "      <th></th>\n",
       "      <th></th>\n",
       "      <th></th>\n",
       "      <th></th>\n",
       "      <th></th>\n",
       "      <th></th>\n",
       "      <th></th>\n",
       "    </tr>\n",
       "  </thead>\n",
       "  <tbody>\n",
       "    <tr>\n",
       "      <th>A</th>\n",
       "      <td>1014.0</td>\n",
       "      <td>81.011739</td>\n",
       "      <td>95.935897</td>\n",
       "      <td>0.815058</td>\n",
       "      <td>38.685000</td>\n",
       "      <td>62.62</td>\n",
       "      <td>98.8175</td>\n",
       "      <td>1659.4</td>\n",
       "    </tr>\n",
       "    <tr>\n",
       "      <th>B</th>\n",
       "      <td>1219.0</td>\n",
       "      <td>68.429308</td>\n",
       "      <td>89.440967</td>\n",
       "      <td>0.340320</td>\n",
       "      <td>30.632592</td>\n",
       "      <td>51.16</td>\n",
       "      <td>81.8000</td>\n",
       "      <td>1546.3</td>\n",
       "    </tr>\n",
       "  </tbody>\n",
       "</table>\n",
       "</div>"
      ],
      "text/plain": [
       "        count       mean        std       min        25%    50%      75%  \\\n",
       "group                                                                      \n",
       "A      1014.0  81.011739  95.935897  0.815058  38.685000  62.62  98.8175   \n",
       "B      1219.0  68.429308  89.440967  0.340320  30.632592  51.16  81.8000   \n",
       "\n",
       "          max  \n",
       "group          \n",
       "A      1659.4  \n",
       "B      1546.3  "
      ]
     },
     "execution_count": 11,
     "metadata": {},
     "output_type": "execute_result"
    }
   ],
   "source": [
    "globox.groupby('group')['spent'].describe()"
   ]
  },
  {
   "cell_type": "markdown",
   "id": "e89fabaa",
   "metadata": {},
   "source": [
    "# Data Cleansing\n",
    "\n",
    "* replace null values in column 'spent' with zeros"
   ]
  },
  {
   "cell_type": "code",
   "execution_count": 12,
   "id": "adc51256",
   "metadata": {},
   "outputs": [
    {
     "data": {
      "text/plain": [
       "id             0\n",
       "country      647\n",
       "gender      6882\n",
       "group          0\n",
       "join_dt        0\n",
       "dt         46849\n",
       "device     46859\n",
       "spent          0\n",
       "dtype: int64"
      ]
     },
     "execution_count": 12,
     "metadata": {},
     "output_type": "execute_result"
    }
   ],
   "source": [
    "# replace null values in column spent with zeros\n",
    "globox['spent'] = globox['spent'].fillna(0)\n",
    "globox.isnull().sum()"
   ]
  },
  {
   "cell_type": "code",
   "execution_count": 13,
   "id": "e62da76a",
   "metadata": {
    "scrolled": true
   },
   "outputs": [
    {
     "data": {
      "image/png": "[encoded data removed]",
      "text/plain": [
       "<Figure size 432x288 with 1 Axes>"
      ]
     },
     "metadata": {
      "needs_background": "light"
     },
     "output_type": "display_data"
    }
   ],
   "source": [
    "# add new column converted (users who spent = 1, users who do not = 0)\n",
    "globox['converted'] = np.where(globox['spent'] > 0.0, 1, 0)\n",
    "\n",
    "group_a_converted = len(globox[(globox['group'] == 'A') & (globox['converted'] > 0)]['id'].unique())\n",
    "group_b_converted = len(globox[(globox['group'] == 'B') & (globox['converted'] > 0)]['id'].unique())\n",
    "\n",
    "# Create a bar chart\n",
    "fig, ax = plt.subplots()\n",
    "ax.bar(['Group A', 'Group B'], [group_a_converted, group_b_converted], color=['blue', 'orange'])\n",
    "\n",
    "# Add labels and title\n",
    "ax.set_ylabel('Number of unique IDs that converted')\n",
    "ax.set_title('Count of Users that Spent by Group')\n",
    "\n",
    "# Add text labels to the top of each bar\n",
    "ax.text(0, group_a_converted + 0.1, group_a_converted, ha='center', fontsize=10)\n",
    "ax.text(1, group_b_converted + 0.1, group_b_converted, ha='center', fontsize=10)\n",
    "\n",
    "# Show the plot\n",
    "plt.show()\n"
   ]
  },
  {
   "cell_type": "markdown",
   "id": "83802f87",
   "metadata": {},
   "source": [
    "\n",
    "**\"We have 139 Duplicate users that bought more than one in diffent time, we need to filter en future medicion\"\n"
   ]
  },
  {
   "cell_type": "code",
   "execution_count": 14,
   "id": "45f5beec",
   "metadata": {},
   "outputs": [
    {
     "data": {
      "text/plain": [
       "False    48804\n",
       "True       139\n",
       "Name: id, dtype: int64"
      ]
     },
     "execution_count": 14,
     "metadata": {},
     "output_type": "execute_result"
    }
   ],
   "source": [
    "#review if I have duplicate users\n",
    "counter = globox['id'].value_counts()\n",
    "(counter > 1).value_counts()"
   ]
  },
  {
   "cell_type": "markdown",
   "id": "71f12e17",
   "metadata": {},
   "source": [
    "# Experimentation"
   ]
  },
  {
   "attachments": {},
   "cell_type": "markdown",
   "id": "1ea00ef0",
   "metadata": {},
   "source": [
    "Context\n",
    "\n",
    "The Globox team run an A/B test to increase revenue by bringing awareness to key products in the food and drink category through a banner at the top of the website,  as shown below. \n",
    "\n",
    "The company aims to further boost revenue by increasing awareness of this product category\n",
    "\n",
    "<img src= \"https://user-images.githubusercontent.com/109522662/234674055-71d68fb0-678d-4513-a0f8-10b32df8b88b.png\" width=\"300\" height=\"100\">\n",
    "\n",
    "The experiment was conducted on the mobile website, and the users were randomly assigned to either the control or test group. The metrics used to measure the success of the experiment were the Conversion Rate of action purchases. Data was collected for 12 days, and a total of 48943 unique users visited the website, of which 24343 were in the control group (A) and 24600 were in the experimental group (B).\n",
    "\n",
    "Alpha = 0.05\n"
   ]
  },
  {
   "cell_type": "code",
   "execution_count": 15,
   "id": "bd27fe5e",
   "metadata": {},
   "outputs": [
    {
     "name": "stdout",
     "output_type": "stream",
     "text": [
      "Number of unique users in esperiment: 48943\n",
      "Data collected for 12 days\n",
      "Group to compare: ['B', 'A']\n",
      "Number of unique users in both group\n",
      "A    24343\n",
      "B    24600\n",
      "Name: id, dtype: int64\n"
     ]
    },
    {
     "data": {
      "image/png": "[encoded data removed]",
      "text/plain": [
       "<Figure size 432x288 with 1 Axes>"
      ]
     },
     "metadata": {
      "needs_background": "light"
     },
     "output_type": "display_data"
    }
   ],
   "source": [
    "# how long did it run\n",
    "start_time = datetime.datetime.strptime(globox['join_dt'].min(), '%Y-%m-%d')\n",
    "end_time = datetime.datetime.strptime(globox['join_dt'].max(), '%Y-%m-%d')\n",
    "data_duration = (end_time - start_time).days\n",
    "\n",
    "print(f\"Number of unique users in esperiment: {globox['id'].nunique()}\")\n",
    "print(f\"Data collected for {data_duration} days\")\n",
    "print(f\"Group to compare: {globox['group'].unique().tolist()}\")\n",
    "print(f\"Number of unique users in both {globox.groupby(['group'])['id'].nunique()}\")\n",
    "\n",
    "# Gragh \n",
    "users_A= len(globox[globox['group'] == 'A']['id'].unique())\n",
    "users_B = len(globox[globox['group'] == 'B']['id'].unique())\n",
    "\n",
    "fig, ax = plt.subplots()\n",
    "ax.bar(['Group A', 'Group B'], [users_A, users_B], color=['blue', 'orange'])\n",
    "\n",
    "# Add labels and title\n",
    "ax.set_ylabel('Number of Users')\n",
    "ax.set_title('Count of Unique Users by Group')\n",
    "\n",
    "# Add text labels to the top of each bar\n",
    "ax.text(0, users_A + 0.1, users_A, ha='center', fontsize=10)\n",
    "ax.text(1, users_B + 0.1, users_B, ha='center', fontsize=10)\n",
    "\n",
    "# Show the plot\n",
    "plt.show()\n"
   ]
  },
  {
   "cell_type": "markdown",
   "id": "5de710a7",
   "metadata": {},
   "source": [
    "#### What is the average amount spent per user for the control and treatment groups?"
   ]
  },
  {
   "cell_type": "code",
   "execution_count": 16,
   "id": "2379e4e8",
   "metadata": {},
   "outputs": [
    {
     "name": "stdout",
     "output_type": "stream",
     "text": [
      "Average amount spent per user for the control (A): $3.3664\n",
      "Average amount spent per user for the treatment (B): $3.3799\n"
     ]
    }
   ],
   "source": [
    "\n",
    "#What is the average amount spent per user for the control and treatment groups?\n",
    "avg_amount = globox.groupby('group')['spent'].mean()\n",
    "\n",
    "print(f\"Average amount spent per user for the control (A): ${avg_amount['A'].round(decimals = 4)}\")\n",
    "print(f\"Average amount spent per user for the treatment (B): ${avg_amount['B'].round(decimals = 4)}\")\n"
   ]
  },
  {
   "cell_type": "markdown",
   "id": "d19e4a10",
   "metadata": {},
   "source": [
    "#### What is the 95% confidence interval for the average amount spent per user in the control (use t distribution) \n",
    "\n",
    "* One-sample \n",
    "* t-interval for means"
   ]
  },
  {
   "cell_type": "code",
   "execution_count": 17,
   "id": "e2ad2f4d",
   "metadata": {},
   "outputs": [
    {
     "name": "stdout",
     "output_type": "stream",
     "text": [
      "Critical t-value: 1.960\n",
      "Margin of Error: 0.319\n",
      "Confidence Interval: [3.048,3.685]\n",
      "The 95.0% confidence interval for the average amount spent per user in the control:\n",
      "between 3.048 and 3.685\n"
     ]
    }
   ],
   "source": [
    "\n",
    "# filters group control A\n",
    "filt_A = globox[globox['group'] == 'A']['spent']\n",
    "# users unique group A\n",
    "n_A = len(globox.loc[globox['group']== 'A']['id'].unique())\n",
    "# Specify Parameters\n",
    "sample_mean_A = filt_A.mean()\n",
    "sample_std_A = filt_A.std(ddof=1)\n",
    "sample_size_A = n_A\n",
    "conf_level_A = 0.95\n",
    "\n",
    "# Calculate alpha, degrees of freedom (df), the critical t-value, and the margin of error\n",
    "alpha = (1-conf_level_A)\n",
    "df = n_A -1\n",
    "standard_error = sample_std_A/math.sqrt(sample_size_A)\n",
    "critical_t = stats.t.ppf(1-alpha/2, df)\n",
    "margin_of_error = critical_t * standard_error\n",
    "\n",
    "# Calculate the lower and upper bound of the confidence interval\n",
    "lower_bound = sample_mean_A - margin_of_error\n",
    "upper_bound = sample_mean_A + margin_of_error\n",
    "\n",
    "# Print the results\n",
    "print(\"Critical t-value: {:.3f}\".format(critical_t))\n",
    "print(\"Margin of Error: {:.3f}\".format(margin_of_error))\n",
    "print(\"Confidence Interval: [{:.3f},{:.3f}]\".format(lower_bound,upper_bound))\n",
    "print(\"The {:.1%} confidence interval for the average amount spent per user in the control:\".format(conf_level_A))\n",
    "print(\"between {:.3f} and {:.3f}\".format(lower_bound,upper_bound))\n"
   ]
  },
  {
   "cell_type": "markdown",
   "id": "9a413266",
   "metadata": {},
   "source": [
    "#### What is the 95% confidence interval for the average amount spent per user in the treatment? (use t distribution) \n",
    "\n",
    "* One-sample \n",
    "* t-interval for means\n",
    "\n",
    "There is a 95% chance that the confidence interval of [3.070,3.690] contains the true population mean amount spent per user in the treatment\n",
    "\n"
   ]
  },
  {
   "cell_type": "code",
   "execution_count": 18,
   "id": "2713b85b",
   "metadata": {},
   "outputs": [
    {
     "name": "stdout",
     "output_type": "stream",
     "text": [
      "Critical t-value: 1.960\n",
      "Margin of Error: 0.310\n",
      "Confidence Interval: [3.070,3.690]\n",
      "The 95.0% confidence interval for the average amount spent per user in the treatment:\n",
      "between 3.070 and 3.690\n"
     ]
    }
   ],
   "source": [
    "\n",
    "# filters group control B\n",
    "filt_B = globox[globox['group'] == 'B']['spent']\n",
    "# users unique group B\n",
    "n_B = len(globox.loc[globox['group']== 'B']['id'].unique())\n",
    "# Specify Parameters\n",
    "sample_mean_B = filt_B.mean()\n",
    "sample_std_B = filt_B.std(ddof=1)\n",
    "sample_size_B = n_B\n",
    "conf_level_B = 0.95\n",
    "\n",
    "# Calculate alpha, degrees of freedom (df), the critical t-value, and the margin of error\n",
    "alpha = (1-conf_level_B)\n",
    "df = n_B -1\n",
    "standard_error = sample_std_B/math.sqrt(sample_size_B)\n",
    "critical_t = stats.t.ppf(1-alpha/2, df)\n",
    "margin_of_error = critical_t * standard_error\n",
    "\n",
    "# Calculate the lower and upper bound of the confidence interval\n",
    "lower_bound = sample_mean_B - margin_of_error\n",
    "upper_bound = sample_mean_B + margin_of_error\n",
    "\n",
    "# Print the results\n",
    "print(\"Critical t-value: {:.3f}\".format(critical_t))\n",
    "print(\"Margin of Error: {:.3f}\".format(margin_of_error))\n",
    "print(\"Confidence Interval: [{:.3f},{:.3f}]\".format(lower_bound,upper_bound))\n",
    "print(\"The {:.1%} confidence interval for the average amount spent per user in the treatment:\".format(conf_level_A))\n",
    "print(\"between {:.3f} and {:.3f}\".format(lower_bound,upper_bound))\n"
   ]
  },
  {
   "cell_type": "markdown",
   "id": "b1df6322",
   "metadata": {},
   "source": [
    "#### Conduct a hypothesis test to see whether there is a difference in the average amount spent per user between the two groups. What are the resulting p-value and conclusion?\n",
    "\n",
    "* Use the t distribution and a 5% significance level. \n",
    "* Assume unequal variance.\n",
    "\n",
    "**HO: there is NOT a difference in the average amount spent per user between the two groups uA = uB\n",
    "**H1: there is a difference in the average amount spent per user between the two groups uA != uB"
   ]
  },
  {
   "cell_type": "code",
   "execution_count": 19,
   "id": "fdfec6de",
   "metadata": {},
   "outputs": [
    {
     "name": "stdout",
     "output_type": "stream",
     "text": [
      "Fail to reject the null hypothesis, results are not significant \n",
      "p-value: 0.95\n"
     ]
    }
   ],
   "source": [
    "# Two-sample t-test\n",
    "# Get Sample\n",
    "sample_A = globox[globox['group']=='A']['spent']\n",
    "sample_B = globox[globox['group']=='B']['spent']\n",
    "\n",
    "#Now we'll compare two sets of samples. Use the t distribution and a 5% significance level. Assume equal variance\n",
    "t_result = stats.ttest_ind(sample_A, sample_B)\n",
    "\n",
    "alpha = 0.05\n",
    "if (t_result[1] < alpha):\n",
    "     print(f\"Reject the null hypothesis. The data favors the alternative hypothesis \\np-value: {t_result[1].round(decimals = 2)}\")\n",
    "else:\n",
    "    print(f\"Fail to reject the null hypothesis, results are not significant \\np-value: {t_result[1].round(decimals = 2)}\")\n"
   ]
  },
  {
   "cell_type": "markdown",
   "id": "1a776acf",
   "metadata": {},
   "source": [
    "#### What is the 95% confidence interval for the difference in the average amount spent per user between the treatment and the control (treatment-control)?\n",
    "\n",
    "* Use the t distribution \n",
    "* Assume unequal variance."
   ]
  },
  {
   "cell_type": "code",
   "execution_count": 20,
   "id": "8028b503",
   "metadata": {},
   "outputs": [
    {
     "name": "stdout",
     "output_type": "stream",
     "text": [
      "The 95% CI for the diff. in the average amount spent per user between A and B: [-0.431,0.458]\n"
     ]
    }
   ],
   "source": [
    "\n",
    "# Calculate the standard error of the difference\n",
    "std_error_diff = ((sample_std_A ** 2 / n_A) + (sample_std_B ** 2 / n_B)) ** 0.5\n",
    "\n",
    "# Calculate the t-score based on the 95% confidence level and degrees of freedom\n",
    "t_score = stats.t.ppf(0.975, df=n_A + n_B -2)\n",
    "\n",
    "# Calculate the margin of error\n",
    "margin_of_error_diff = t_score * std_error_diff\n",
    "\n",
    "# Calculate the confidence interval\n",
    "CI_diff_low = (avg_amount['B'] - avg_amount['A'] - margin_of_error_diff)\n",
    "CI_diff_high = (avg_amount['B'] - avg_amount['A'] + margin_of_error_diff)\n",
    "\n",
    "# Print the confidence interval\n",
    "print(\"The 95% CI for the diff. in the average amount spent per user between A and B: [{:.3f},{:.3f}]\".format(CI_diff_low, CI_diff_high))\n"
   ]
  },
  {
   "cell_type": "markdown",
   "id": "498e0046",
   "metadata": {},
   "source": [
    "## Conduct a hypothesis test to see whether there is a difference in the average amount spent per user between the two groups\n",
    "\n",
    "### Conclusion\n",
    "\n",
    "* There is no significant difference in the average amount spent per user between the control group (A) and treatment group (B). This is supported by the fact that the p-value for the hypothesis test is 0.95, which is greater than the typical alpha level of 0.05. Additionally, the 95% confidence intervals for the average amount spent per user in both groups overlap, indicating that there is a high probability that the true means are similar. Finally, the 95% CI for the difference in means between A and B is [-0.431, 0.458], which includes 0 and further supports the conclusion that there is no significant difference between the two groups. Overall, these results suggest that the new treatment did not have a significant impact on the average amount spent per user compared to the control group."
   ]
  },
  {
   "cell_type": "markdown",
   "id": "889306bd",
   "metadata": {},
   "source": [
    "#### What is the user conversion rate for the control and treatment groups?"
   ]
  },
  {
   "cell_type": "code",
   "execution_count": 21,
   "id": "e0ff5435",
   "metadata": {},
   "outputs": [
    {
     "name": "stdout",
     "output_type": "stream",
     "text": [
      "User conversion rate for the control group: 3.92%\n",
      "User conversion rate for the treatment group: 4.63%\n",
      "Diff = 0.71%\n"
     ]
    },
    {
     "data": {
      "image/png": "[encoded data removed]",
      "text/plain": [
       "<Figure size 432x288 with 1 Axes>"
      ]
     },
     "metadata": {
      "needs_background": "light"
     },
     "output_type": "display_data"
    }
   ],
   "source": [
    "\n",
    "#Count the number of unique users in each group\n",
    "users_A= set(globox[globox['group'] == 'A']['id'].unique())\n",
    "users_B = set(globox[globox['group'] == 'B']['id'].unique())\n",
    "\n",
    "#Count the number of users who spent in each group\n",
    "spent_A = set(globox[(globox['group'] == 'A') & (globox['spent'] > 0)]['id'].unique())\n",
    "spent_B = set(globox[(globox['group'] == 'B') & (globox['spent'] > 0)]['id'].unique())\n",
    "\n",
    "#Calculate the user conversion rate for each group\n",
    "control_conversion_rate = round(len(spent_A)*100 / len(users_A), 2)\n",
    "treatment_conversion_rate = round(len(spent_B)*100 / len(users_B),2)\n",
    "diff = round(treatment_conversion_rate - control_conversion_rate, 2)\n",
    "\n",
    "#Print the user conversion rate for each group\n",
    "print(f\"User conversion rate for the control group: {control_conversion_rate}%\")\n",
    "print(f\"User conversion rate for the treatment group: {treatment_conversion_rate}%\")\n",
    "print(f\"Diff = {diff}%\")\n",
    "\n",
    "fig, ax = plt.subplots()\n",
    "ax.bar(['Control', 'Treatment'], [control_conversion_rate, treatment_conversion_rate], color=['blue', 'orange'])\n",
    "for i, v in enumerate([control_conversion_rate,treatment_conversion_rate]):\n",
    "    ax.text(i, v + 0.1, str(v)+'%', ha='center', fontweight='bold')\n",
    "# Set the title and labels\n",
    "ax.set_title('Conversion Rates by Group')\n",
    "ax.set_xlabel('Group')\n",
    "ax.set_ylabel('Conversion Rate')\n",
    "plt.show()\n"
   ]
  },
  {
   "cell_type": "markdown",
   "id": "9a37b657",
   "metadata": {},
   "source": [
    "#### What is the 95% confidence interval for the conversion rate of users in the control?\n",
    "\n",
    "* Use the normal distribution.\n",
    "* one-sample \n",
    "* z-interval for proportions"
   ]
  },
  {
   "cell_type": "code",
   "execution_count": 22,
   "id": "c9338a18",
   "metadata": {},
   "outputs": [
    {
     "name": "stdout",
     "output_type": "stream",
     "text": [
      "95% CI conversion rate for the control group: [0.0368 0.0417]\n"
     ]
    }
   ],
   "source": [
    "\n",
    "num_success = len((globox[(globox['group'] == 'A') & (globox['spent'] > 0)]['id'].unique()))# number of successful purchase\n",
    "num_obser = len(globox.loc[globox['group']== 'A']['id'].unique()) # number of observation (customer exposed to the old landing page)\n",
    "CIA = proportion.proportion_confint(num_success, num_obser, alpha=0.05, method='normal')\n",
    "\n",
    "print(f\"95% CI conversion rate for the control group: {np.round(CIA, 4)}\")\n"
   ]
  },
  {
   "cell_type": "markdown",
   "id": "7121c75e",
   "metadata": {},
   "source": [
    "#### What is the 95% confidence interval for the conversion rate of users in the treatment?\n",
    "\n",
    "* Use the normal distribution.\n",
    "* one-sample \n",
    "* z-interval for proportions"
   ]
  },
  {
   "cell_type": "code",
   "execution_count": 23,
   "id": "13e24f8b",
   "metadata": {},
   "outputs": [
    {
     "name": "stdout",
     "output_type": "stream",
     "text": [
      "95% CI conversion rate for the control treatment: [0.0437 0.0489]\n"
     ]
    }
   ],
   "source": [
    "\n",
    "num_success = len((globox[(globox['group'] == 'B') & (globox['spent'] > 0)]['id'].unique()))# number of successful purchase\n",
    "num_obser = len(globox.loc[globox['group']== 'B']['id'].unique()) # number of observation (customer exposed to the old landing page)\n",
    "CIB = proportion.proportion_confint(num_success, num_obser, alpha=0.05, method='normal')\n",
    "\n",
    "print(f\"95% CI conversion rate for the control treatment: {np.round(CIB, 4)}\")\n"
   ]
  },
  {
   "cell_type": "markdown",
   "id": "c0fa59b0",
   "metadata": {},
   "source": [
    "#### Conduct a hypothesis test to see whether there is a difference in the conversion rate between the two groups. What are the resulting p-value and conclusion?\n",
    "pooled proportion for the standard error\n",
    "\n",
    "* Use the normal distribution and a 5% significance level. \n",
    "* two-sample \n",
    "* two-sided z-interval for a difference in proportions. \n",
    "* Assuming equal proportions"
   ]
  },
  {
   "cell_type": "markdown",
   "id": "7ec5e5f9",
   "metadata": {},
   "source": [
    "**HO: The difference in the CONVERTION RATE between the two groups uA - uB = 0\n",
    "**H1: The difference in the CONVERTION RATE between the two groups uA - uB != 0"
   ]
  },
  {
   "cell_type": "code",
   "execution_count": 24,
   "id": "48d3c1c9",
   "metadata": {},
   "outputs": [
    {
     "name": "stdout",
     "output_type": "stream",
     "text": [
      "z_stat: -3.864, p_value: 0.00011\n",
      "Reject the null hypothesis that there is no difference in the user conversion rate between the control and treatment.\n"
     ]
    }
   ],
   "source": [
    "## Parameters\n",
    "success_a = len((globox[(globox['group'] == 'A') & (globox['spent'] > 0)]['id'].unique()))# number of successful purchase\n",
    "size_a = len(globox.loc[globox['group']== 'A']['id'].unique()) #Size\n",
    "success_b = len((globox[(globox['group'] == 'B') & (globox['spent'] > 0)]['id'].unique()))# number of successful purchase\n",
    "size_b = len(globox.loc[globox['group']== 'B']['id'].unique()) # Size\n",
    "significance = 0.05\n",
    "\n",
    "# check our sample against Ho for Ha != Ho\n",
    "successes = np.array([success_a, success_b])\n",
    "samples = np.array([size_a, size_b])\n",
    "\n",
    "stat, p_value = proportion.proportions_ztest(count=successes, nobs=samples,  alternative='two-sided')\n",
    "\n",
    "# report\n",
    "print('z_stat: %0.3f, p_value: %0.5f' % (stat, p_value))\n",
    "\n",
    "if p_value > 0.05:\n",
    "   print (\"Fail to reject the null hypothesis\")\n",
    "else:\n",
    "   print (\"Reject the null hypothesis that there is no difference in the user conversion rate between the control and treatment.\")\n"
   ]
  },
  {
   "cell_type": "markdown",
   "id": "c7b83f65",
   "metadata": {},
   "source": [
    "#### What is the 95% confidence interval for the difference in the conversion rate between the treatment and control (treatment-control)?\n"
   ]
  },
  {
   "cell_type": "markdown",
   "id": "c0557a6d",
   "metadata": {},
   "source": [
    "* Use the normal distribution and unpooled proportions for the standard error.\n",
    "* two-sample \n",
    "* z-interval for a difference in proportions. Without assuming the proportions are the same\n",
    "* we use the unpooled standard error. \n",
    "* Subtracting the control proportion from the treatment proportion (treatment - control) and not the other way around."
   ]
  },
  {
   "cell_type": "code",
   "execution_count": 25,
   "id": "7f1e4b4e",
   "metadata": {},
   "outputs": [
    {
     "name": "stdout",
     "output_type": "stream",
     "text": [
      "95% CI for the difference in the conversion rate between A and B: [0.0035 0.0107]\n"
     ]
    }
   ],
   "source": [
    "# size\n",
    "size_a = len(globox.loc[globox['group']== 'A']['id'].unique())\n",
    "size_b = len(globox.loc[globox['group']== 'B']['id'].unique())\n",
    "\n",
    "# Parameters\n",
    "control_conversion_rate = len(spent_A) / size_a\n",
    "treatment_conversion_rate = len(spent_B) / size_b\n",
    "\n",
    "# Calculate the difference in conversion rates\n",
    "dif_conversion_rate = treatment_conversion_rate - control_conversion_rate\n",
    "\n",
    "# Calculate the standard error of the difference in conversion rates\n",
    "se_dif = np.sqrt((treatment_conversion_rate * (1 - treatment_conversion_rate) / size_b) + (control_conversion_rate * (1 - control_conversion_rate) / size_a))\n",
    "\n",
    "# Calculate the 95% confidence interval using the normal distribution and unpooled proportions\n",
    "CI_dif = (dif_conversion_rate - stats.norm.ppf(0.975) * se_dif, dif_conversion_rate + stats.norm.ppf(0.975) * se_dif)\n",
    "\n",
    "\n",
    "print(f\"95% CI for the difference in the conversion rate between A and B: {np.round(CI_dif, 4)}\")\n"
   ]
  },
  {
   "cell_type": "markdown",
   "id": "0cc261b9",
   "metadata": {},
   "source": [
    "## Conduct a hypothesis test to see whether there is a difference in the conversion rate between the two groups\n",
    "\n",
    "### Conclusion\n",
    "\n",
    "* Based on the results of the experiment, we can conclude that the new banner had a statistically significant effect on the conversion rate. The data showed that the treatment group had a higher conversion rate compared to the control group, with a difference of 0.71%. This difference was found to be statistically significant as evidenced by the p-value of 0.00011, which was less than the significance level of 0.05.\n",
    "\n",
    "* Furthermore, the 95% confidence interval for the difference in conversion rate between the control and treatment groups did not include zero, which provides additional evidence for the statistical significance of the result. The interval was [0.0035, 0.0107], which suggests that we can be 95% confident that the true difference in conversion rate between the two groups lies within this range. Therefore, we can conclude that the new banner had a statistically significant effect on the conversion rate.\n"
   ]
  },
  {
   "cell_type": "code",
   "execution_count": 26,
   "id": "19c01648",
   "metadata": {},
   "outputs": [
    {
     "name": "stdout",
     "output_type": "stream",
     "text": [
      "Estimation effect size: 0.0351\n"
     ]
    }
   ],
   "source": [
    "from statsmodels.stats.power import TTestIndPower\n",
    "\n",
    "# Define parameters\n",
    "alpha = 0.05\n",
    "n1 = 24343 # sample A\n",
    "n2 = 24600 # sample B\n",
    "p1 = 0.0392 # conv. rate A\n",
    "p2 = 0.0463 # conv. rate B\n",
    "\n",
    "# Compute effect size (Cohen's d)\n",
    "s1 = p1*(1-p1) # standard deviation of group 1\n",
    "s2 = p2*(1-p2) # standard deviation of group 2\n",
    "s = ((n1-1)*s1 + (n2-1)*s2) / (n1+n2-2) # pooled standard deviation\n",
    "Cohen_effect_size = abs(p2 - p1) / (s**0.5) # Cohen's d, which is a measure of the standardized effect size\n",
    "\n",
    "\n",
    "print(f\"Estimation effect size: {round(Cohen_effect_size, 4)}\")\n"
   ]
  },
  {
   "cell_type": "code",
   "execution_count": 27,
   "id": "e55907f8",
   "metadata": {},
   "outputs": [
    {
     "name": "stdout",
     "output_type": "stream",
     "text": [
      "For effect size = 0.0351, power = 0.2, sample size = 2018\n",
      "For effect size = 0.0351, power = 0.5, sample size = 6236\n",
      "For effect size = 0.0351, power = 0.8, sample size = 12743\n"
     ]
    }
   ],
   "source": [
    "# Calculation Sample size to achieve power = 0.2, power = 0.5, power = 0.8\n",
    "\n",
    "# Set parameters\n",
    "alpha = 0.05\n",
    "effect_sizes = [0.0351]\n",
    "power_values = [0.2, 0.5, 0.8]\n",
    "ratios = [1]\n",
    "nobs = []\n",
    "\n",
    "# Loop through effect sizes, power values, and ratios\n",
    "for es in effect_sizes:\n",
    "    for pow in power_values:\n",
    "        for ratio in ratios:\n",
    "            # Create power analysis object\n",
    "            power_analysis = TTestIndPower()\n",
    "            \n",
    "            # Calculate required sample size\n",
    "            nobs.append(power_analysis.solve_power(effect_size=es, power=pow, alpha=alpha, ratio=ratio, alternative='two-sided'))\n",
    "\n",
    "# Print results\n",
    "for i in range(len(nobs)):\n",
    "    print(f\"For effect size = {effect_sizes[0]}, power = {power_values[i]}, sample size = {round(nobs[i])}\")"
   ]
  },
  {
   "cell_type": "markdown",
   "id": "4404c158",
   "metadata": {},
   "source": [
    "# Recommendation\n",
    "\n",
    "* I recommend that we do not launch it. Statistics showed a significant increase in Conversion Rate between the control and treatment groups, it is likely that the change had a positive impact on overall user engagement and behavior. However, the experiment only focused on highlighting key products in the food and drink category and it is uncertain whether this specific change contributed to the observed increase in conversion rate.\n",
    "\n",
    "* To better understand the impact of the new banner, it may be useful to conduct further experiments or gather more data on user behavior, such as surveys or analyzing user feedback. Additionally, analyzing the types of products that were purchased by users in the experimental group could also help determine whether the new banner had a specific impact on the food and drink category or on overall purchasing behavior.\n"
   ]
  },
  {
   "cell_type": "code",
   "execution_count": null,
   "id": "0a04699b",
   "metadata": {},
   "outputs": [],
   "source": []
  }
 ],
 "metadata": {
  "kernelspec": {
   "display_name": "Python 3 (ipykernel)",
   "language": "python",
   "name": "python3"
  },
  "language_info": {
   "codemirror_mode": {
    "name": "ipython",
    "version": 3
   },
   "file_extension": ".py",
   "mimetype": "text/x-python",
   "name": "python",
   "nbconvert_exporter": "python",
   "pygments_lexer": "ipython3",
   "version": "3.9.12"
  }
 },
 "nbformat": 4,
 "nbformat_minor": 5
}
