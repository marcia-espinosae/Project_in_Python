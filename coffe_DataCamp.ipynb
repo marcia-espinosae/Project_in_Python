{
 "cells": [
  {
   "cell_type": "code",
   "execution_count": 1,
   "id": "1740728b-d691-49e1-a42e-33e7128be2b3",
   "metadata": {},
   "outputs": [],
   "source": [
    "import numpy as np\n",
    "import pandas as pd"
   ]
  },
  {
   "cell_type": "code",
   "execution_count": 4,
   "id": "59a8554d-be31-4a90-a238-e709f72b0b9c",
   "metadata": {},
   "outputs": [
    {
     "data": {
      "text/html": [
       "<div>\n",
       "<style scoped>\n",
       "    .dataframe tbody tr th:only-of-type {\n",
       "        vertical-align: middle;\n",
       "    }\n",
       "\n",
       "    .dataframe tbody tr th {\n",
       "        vertical-align: top;\n",
       "    }\n",
       "\n",
       "    .dataframe thead th {\n",
       "        text-align: right;\n",
       "    }\n",
       "</style>\n",
       "<table border=\"1\" class=\"dataframe\">\n",
       "  <thead>\n",
       "    <tr style=\"text-align: right;\">\n",
       "      <th></th>\n",
       "      <th>Region</th>\n",
       "      <th>Place name</th>\n",
       "      <th>Place type</th>\n",
       "      <th>Rating</th>\n",
       "      <th>Reviews</th>\n",
       "      <th>Price</th>\n",
       "      <th>Delivery option</th>\n",
       "      <th>Dine in option</th>\n",
       "      <th>Takeout option</th>\n",
       "    </tr>\n",
       "  </thead>\n",
       "  <tbody>\n",
       "    <tr>\n",
       "      <th>0</th>\n",
       "      <td>C</td>\n",
       "      <td>Dim Kavu</td>\n",
       "      <td>Others</td>\n",
       "      <td>4.6</td>\n",
       "      <td>206.0</td>\n",
       "      <td>$$</td>\n",
       "      <td>False</td>\n",
       "      <td>NaN</td>\n",
       "      <td>NaN</td>\n",
       "    </tr>\n",
       "    <tr>\n",
       "      <th>1</th>\n",
       "      <td>C</td>\n",
       "      <td>Коферум</td>\n",
       "      <td>Cafe</td>\n",
       "      <td>5.0</td>\n",
       "      <td>24.0</td>\n",
       "      <td>$$</td>\n",
       "      <td>False</td>\n",
       "      <td>NaN</td>\n",
       "      <td>True</td>\n",
       "    </tr>\n",
       "    <tr>\n",
       "      <th>2</th>\n",
       "      <td>C</td>\n",
       "      <td>Кофейня Світ Чаю</td>\n",
       "      <td>Coffee shop</td>\n",
       "      <td>5.0</td>\n",
       "      <td>11.0</td>\n",
       "      <td>$$</td>\n",
       "      <td>False</td>\n",
       "      <td>NaN</td>\n",
       "      <td>True</td>\n",
       "    </tr>\n",
       "    <tr>\n",
       "      <th>3</th>\n",
       "      <td>C</td>\n",
       "      <td>Кофейня Starcoff</td>\n",
       "      <td>Coffee shop</td>\n",
       "      <td>4.4</td>\n",
       "      <td>331.0</td>\n",
       "      <td>$$</td>\n",
       "      <td>False</td>\n",
       "      <td>True</td>\n",
       "      <td>True</td>\n",
       "    </tr>\n",
       "    <tr>\n",
       "      <th>4</th>\n",
       "      <td>C</td>\n",
       "      <td>Кофейня \"Friend Zone\"</td>\n",
       "      <td>Coffee shop</td>\n",
       "      <td>5.0</td>\n",
       "      <td>12.0</td>\n",
       "      <td>$$</td>\n",
       "      <td>False</td>\n",
       "      <td>True</td>\n",
       "      <td>True</td>\n",
       "    </tr>\n",
       "  </tbody>\n",
       "</table>\n",
       "</div>"
      ],
      "text/plain": [
       "  Region             Place name   Place type  Rating  Reviews Price  \\\n",
       "0      C               Dim Kavu       Others     4.6    206.0    $$   \n",
       "1      C                Коферум         Cafe     5.0     24.0    $$   \n",
       "2      C       Кофейня Світ Чаю  Coffee shop     5.0     11.0    $$   \n",
       "3      C       Кофейня Starcoff  Coffee shop     4.4    331.0    $$   \n",
       "4      C  Кофейня \"Friend Zone\"  Coffee shop     5.0     12.0    $$   \n",
       "\n",
       "   Delivery option Dine in option Takeout option  \n",
       "0            False            NaN            NaN  \n",
       "1            False            NaN           True  \n",
       "2            False            NaN           True  \n",
       "3            False           True           True  \n",
       "4            False           True           True  "
      ]
     },
     "execution_count": 4,
     "metadata": {},
     "output_type": "execute_result"
    }
   ],
   "source": [
    "cofe = pd.read_csv('/Users/marcia/Downloads/coffee.csv')\n",
    "cofe.head()"
   ]
  },
  {
   "cell_type": "code",
   "execution_count": 9,
   "id": "3731cad1-df28-40f5-a105-f2f9210978d5",
   "metadata": {},
   "outputs": [],
   "source": [
    "pd.set_option('display.max_columns', 9)\n",
    "pd.set_option('display.max_rows', 200)"
   ]
  },
  {
   "cell_type": "code",
   "execution_count": 5,
   "id": "91767de0-f97c-4d7f-b14d-2a25abc39307",
   "metadata": {},
   "outputs": [
    {
     "name": "stdout",
     "output_type": "stream",
     "text": [
      "<class 'pandas.core.frame.DataFrame'>\n",
      "RangeIndex: 200 entries, 0 to 199\n",
      "Data columns (total 9 columns):\n",
      " #   Column           Non-Null Count  Dtype  \n",
      "---  ------           --------------  -----  \n",
      " 0   Region           200 non-null    object \n",
      " 1   Place name       200 non-null    object \n",
      " 2   Place type       200 non-null    object \n",
      " 3   Rating           198 non-null    float64\n",
      " 4   Reviews          198 non-null    float64\n",
      " 5   Price            200 non-null    object \n",
      " 6   Delivery option  200 non-null    bool   \n",
      " 7   Dine in option   140 non-null    object \n",
      " 8   Takeout option   144 non-null    object \n",
      "dtypes: bool(1), float64(2), object(6)\n",
      "memory usage: 12.8+ KB\n"
     ]
    }
   ],
   "source": [
    "cofe.info()"
   ]
  },
  {
   "cell_type": "code",
   "execution_count": 22,
   "id": "24eed4fd-e448-42fd-84f3-fec47c08c94c",
   "metadata": {},
   "outputs": [
    {
     "data": {
      "text/plain": [
       "0"
      ]
     },
     "execution_count": 22,
     "metadata": {},
     "output_type": "execute_result"
    }
   ],
   "source": [
    "# Rating column has 2 missing values, replace missing values with '0' \n",
    "cofe['Rating'].fillna(0, inplace=True) \n",
    "missing_count_rating  = cofe['Rating'].isnull().sum()\n",
    "missing_count_rating"
   ]
  },
  {
   "cell_type": "code",
   "execution_count": 24,
   "id": "60730fa5-b5b3-4e45-9bea-1cdbc05d7a54",
   "metadata": {},
   "outputs": [
    {
     "data": {
      "text/plain": [
       "0"
      ]
     },
     "execution_count": 24,
     "metadata": {},
     "output_type": "execute_result"
    }
   ],
   "source": [
    "# Reviews has 2 missing values, replace 'overall_median'\n",
    "overall_median = cofe['Reviews'].median()\n",
    "cofe['Reviews'].fillna(overall_median, inplace=True)\n",
    "missing_count_reviews  = cofe['Reviews'].isnull().sum()\n",
    "missing_count_reviews"
   ]
  },
  {
   "cell_type": "code",
   "execution_count": 28,
   "id": "d2d124d0-3aa0-438c-aaa0-a843d2cda35b",
   "metadata": {},
   "outputs": [
    {
     "data": {
      "text/plain": [
       "0"
      ]
     },
     "execution_count": 28,
     "metadata": {},
     "output_type": "execute_result"
    }
   ],
   "source": [
    "# Dine in option has 60 missing values, replace 'False'\n",
    "cofe['Dine in option'].fillna(False, inplace=True)\n",
    "missing_count_dine_option  = cofe['Dine in option'].isnull().sum()\n",
    "missing_count_dine_option"
   ]
  },
  {
   "cell_type": "code",
   "execution_count": 30,
   "id": "12154a1f-af2d-4cab-ba95-d93b7f4be711",
   "metadata": {},
   "outputs": [
    {
     "data": {
      "text/plain": [
       "0"
      ]
     },
     "execution_count": 30,
     "metadata": {},
     "output_type": "execute_result"
    }
   ],
   "source": [
    "# Takeout option has 56 missing values, replace 'False'\n",
    "cofe['Takeout option'].fillna(False, inplace=True)\n",
    "missing_count_takeout_option  = cofe['Takeout option'].isnull().sum()\n",
    "missing_count_takeout_option"
   ]
  },
  {
   "cell_type": "markdown",
   "id": "77435304-6ddb-432e-8487-1bd0eda69060",
   "metadata": {},
   "source": [
    "Submit your answers directly in the workspace provided.\n",
    "1. For every column in the data:\n",
    "a. State whether the values match the description given in the table above.\n",
    "b. State the number of missing values in the column.\n",
    "c. Describe what you did to make values match the description if they did notmatch."
   ]
  },
  {
   "cell_type": "code",
   "execution_count": 33,
   "id": "37997c94-31f2-4598-b4b1-92faecd094b2",
   "metadata": {},
   "outputs": [
    {
     "data": {
      "text/plain": [
       "C    20\n",
       "J    20\n",
       "F    20\n",
       "B    20\n",
       "A    20\n",
       "E    20\n",
       "D    20\n",
       "G    20\n",
       "I    20\n",
       "H    20\n",
       "Name: Region, dtype: int64"
      ]
     },
     "execution_count": 33,
     "metadata": {},
     "output_type": "execute_result"
    }
   ],
   "source": [
    "# Region values match the description, no missing values.\n",
    "cofe['Region'].value_counts()"
   ]
  },
  {
   "cell_type": "code",
   "execution_count": 36,
   "id": "8e5dd0e3-0b90-46b9-942b-60c484ea0034",
   "metadata": {},
   "outputs": [
    {
     "data": {
      "text/plain": [
       "Dim Kavy                   4\n",
       "coffee House               3\n",
       "Coffee House               3\n",
       "MY COFFEE                  2\n",
       "Lviv Coffee Manufacture    2\n",
       "Name: Place name, dtype: int64"
      ]
     },
     "execution_count": 36,
     "metadata": {},
     "output_type": "execute_result"
    }
   ],
   "source": [
    "#  Place name values match the description, no missing values.\n",
    "cofe['Place name'].value_counts().head()"
   ]
  },
  {
   "cell_type": "code",
   "execution_count": 37,
   "id": "e4f75f58-ed40-46dc-ad2f-9fe5615e95fc",
   "metadata": {},
   "outputs": [
    {
     "data": {
      "text/plain": [
       "Coffee shop     97\n",
       "Cafe            58\n",
       "Others          25\n",
       "Espresso bar    20\n",
       "Name: Place type, dtype: int64"
      ]
     },
     "execution_count": 37,
     "metadata": {},
     "output_type": "execute_result"
    }
   ],
   "source": [
    "# Place type values match the description, no missing values.\n",
    "cofe['Place type'].value_counts()"
   ]
  },
  {
   "cell_type": "code",
   "execution_count": 38,
   "id": "f31aeb7c-6982-4eae-a24b-7e428e9ccf87",
   "metadata": {},
   "outputs": [
    {
     "data": {
      "text/plain": [
       "4.6    47\n",
       "4.7    39\n",
       "4.9    25\n",
       "4.5    22\n",
       "5.0    21\n",
       "4.8    18\n",
       "4.4    12\n",
       "4.3     6\n",
       "4.2     2\n",
       "4.1     2\n",
       "0.0     2\n",
       "4.0     2\n",
       "3.9     2\n",
       "Name: Rating, dtype: int64"
      ]
     },
     "execution_count": 38,
     "metadata": {},
     "output_type": "execute_result"
    }
   ],
   "source": [
    "# Rating type values match the description, replace missing value '0'\n",
    "cofe['Rating'].value_counts()"
   ]
  },
  {
   "cell_type": "code",
   "execution_count": 40,
   "id": "1844a274-db8d-4d02-adc6-7da1228e1bc1",
   "metadata": {},
   "outputs": [
    {
     "data": {
      "text/plain": [
       "10.0    5\n",
       "15.0    4\n",
       "18.0    4\n",
       "40.0    3\n",
       "14.0    3\n",
       "Name: Reviews, dtype: int64"
      ]
     },
     "execution_count": 40,
     "metadata": {},
     "output_type": "execute_result"
    }
   ],
   "source": [
    "# Reviews type values match the description, missing value replace 'overall median'\n",
    "cofe['Reviews'].value_counts().head()"
   ]
  },
  {
   "cell_type": "code",
   "execution_count": 42,
   "id": "0eacc261-a505-42b7-bb7b-c375efa42e79",
   "metadata": {},
   "outputs": [
    {
     "data": {
      "text/plain": [
       "$$     194\n",
       "$$$      4\n",
       "$        2\n",
       "Name: Price, dtype: int64"
      ]
     },
     "execution_count": 42,
     "metadata": {},
     "output_type": "execute_result"
    }
   ],
   "source": [
    "# Price type values match the description, no missing values.\n",
    "cofe['Price'].value_counts()"
   ]
  },
  {
   "cell_type": "code",
   "execution_count": 43,
   "id": "6cd1a2b0-f78e-4db1-b6c4-5aaf46b88ca2",
   "metadata": {},
   "outputs": [
    {
     "data": {
      "text/plain": [
       "False    165\n",
       "True      35\n",
       "Name: Delivery option, dtype: int64"
      ]
     },
     "execution_count": 43,
     "metadata": {},
     "output_type": "execute_result"
    }
   ],
   "source": [
    "# Delivery option type values match the description, missing value replace 'False'\n",
    "cofe['Delivery option'].value_counts()"
   ]
  },
  {
   "cell_type": "code",
   "execution_count": 44,
   "id": "e6c29006-6c05-44dc-9e44-c4d8ca7a1d6a",
   "metadata": {},
   "outputs": [
    {
     "data": {
      "text/plain": [
       "True     140\n",
       "False     60\n",
       "Name: Dine in option, dtype: int64"
      ]
     },
     "execution_count": 44,
     "metadata": {},
     "output_type": "execute_result"
    }
   ],
   "source": [
    "# Dine in option type values match the description, missing value replace 'False'\n",
    "cofe['Dine in option'].value_counts()"
   ]
  },
  {
   "cell_type": "code",
   "execution_count": 45,
   "id": "31c50266-b0e0-4556-b54d-d4b9635664b5",
   "metadata": {},
   "outputs": [
    {
     "data": {
      "text/plain": [
       "True     144\n",
       "False     56\n",
       "Name: Takeout option, dtype: int64"
      ]
     },
     "execution_count": 45,
     "metadata": {},
     "output_type": "execute_result"
    }
   ],
   "source": [
    "#  Takeout option type values match the description, missing value replace 'False'\n",
    "cofe['Takeout option'].value_counts()"
   ]
  },
  {
   "cell_type": "markdown",
   "id": "1395184d-cbff-48a3-b8b6-9883be9fb7eb",
   "metadata": {},
   "source": [
    "Create a visualization that shows which is the most common type of coffee store. Use the visualization to:\n",
    "a. State which category of the variable place type the most observations\n",
    "b. Explain whether the observations are balanced across categories"
   ]
  },
  {
   "cell_type": "code",
   "execution_count": 47,
   "id": "9d4efd53-7631-46be-aad3-7ba1b7ff75b1",
   "metadata": {},
   "outputs": [
    {
     "data": {
      "text/plain": [
       "Text(0.5, 1.0, 'Most Common Type of Coffee Store')"
      ]
     },
     "execution_count": 47,
     "metadata": {},
     "output_type": "execute_result"
    },
    {
     "data": {
      "image/png": "[encoded data removed]",
      "text/plain": [
       "<Figure size 432x288 with 1 Axes>"
      ]
     },
     "metadata": {
      "needs_background": "light"
     },
     "output_type": "display_data"
    }
   ],
   "source": [
    "import matplotlib.pyplot as plt\n",
    "\n",
    "# Count the occurrences of each category in the 'place type' column\n",
    "category_counts = cofe['Place type'].value_counts()\n",
    "\n",
    "# Create a bar plot\n",
    "plt.bar(category_counts.index, category_counts.values)\n",
    "\n",
    "# Set labels and title\n",
    "plt.xlabel('Place Type')\n",
    "plt.ylabel('Count')\n",
    "plt.title('Most Common Type of Coffee Store')"
   ]
  },
  {
   "cell_type": "markdown",
   "id": "cddf96e8-f06c-4710-b934-6298367bccb6",
   "metadata": {},
   "source": [
    "Conclusion: the most common type of coffee store is 'coffee shop' and\n",
    "there is a significant difference in counts across categories, the observations may be unbalanced"
   ]
  },
  {
   "cell_type": "code",
   "execution_count": 53,
   "id": "5308cae7-9893-4211-abd8-8cb551507428",
   "metadata": {},
   "outputs": [
    {
     "data": {
      "image/png": "[encoded data removed]",
      "text/plain": [
       "<Figure size 432x288 with 1 Axes>"
      ]
     },
     "metadata": {
      "needs_background": "light"
     },
     "output_type": "display_data"
    }
   ],
   "source": [
    "# Calculate statistical measures\n",
    "reviews_mean = cofe['Reviews'].mean()\n",
    "reviews_median = cofe['Reviews'].median()\n",
    "reviews_std = cofe['Reviews'].std()\n",
    "\n",
    "# Create a histogram plot\n",
    "plt.hist(cofe['Reviews'], bins=20, edgecolor='black')\n",
    "\n",
    "# Add labels and title\n",
    "plt.xlabel('Number of Reviews')\n",
    "plt.ylabel('Frequency')\n",
    "plt.title('Distribution of Number of Reviews')\n",
    "\n",
    "# Add mean and median lines\n",
    "plt.axvline(reviews_mean, color='r', linestyle='dashed', linewidth=1, label='Mean')\n",
    "plt.axvline(reviews_median, color='g', linestyle='dashed', linewidth=1, label='Median')\n",
    "\n",
    "# Add legend\n",
    "plt.legend()\n",
    "\n",
    "# Display the plot\n",
    "plt.show()\n",
    "\n"
   ]
  },
  {
   "cell_type": "markdown",
   "id": "4571d355-a2bb-4d4f-bda0-669eec514807",
   "metadata": {},
   "source": [
    "Distribution of the number of reviews is skewed to the right, the mean is greater than the median."
   ]
  },
  {
   "cell_type": "code",
   "execution_count": 55,
   "id": "a3697d38-ef61-484c-87d0-396f9a7758c5",
   "metadata": {},
   "outputs": [
    {
     "data": {
      "image/png": "[encoded data removed]",
      "text/plain": [
       "<Figure size 432x288 with 1 Axes>"
      ]
     },
     "metadata": {
      "needs_background": "light"
     },
     "output_type": "display_data"
    }
   ],
   "source": [
    "reviews_by_type = cofe.groupby('Place type')['Reviews'].mean()\n",
    "\n",
    "# Create a bar plot\n",
    "plt.bar(reviews_by_type.index, reviews_by_type)\n",
    "\n",
    "# Add labels and title\n",
    "plt.xlabel('Store Type')\n",
    "plt.ylabel('Average Number of Reviews')\n",
    "plt.title('Relationship between Store Type and Number of Reviews')\n",
    "\n",
    "# Display the plot\n",
    "plt.show()"
   ]
  },
  {
   "cell_type": "markdown",
   "id": "2ca70c82-e5cb-470e-9e60-a95f57506bcd",
   "metadata": {},
   "source": [
    "# Describe the relationship between type of store and number of reviews. Your answer\n",
    "must include a visualization to demonstrate the relationship. \n",
    "The store type that tends to receive the highest or lowest number of reviews on average are coffee shop and others, respectively"
   ]
  },
  {
   "cell_type": "code",
   "execution_count": null,
   "id": "10db80c2-dcda-4586-909d-a24ab94b205f",
   "metadata": {},
   "outputs": [],
   "source": []
  }
 ],
 "metadata": {
  "kernelspec": {
   "display_name": "Python 3 (ipykernel)",
   "language": "python",
   "name": "python3"
  },
  "language_info": {
   "codemirror_mode": {
    "name": "ipython",
    "version": 3
   },
   "file_extension": ".py",
   "mimetype": "text/x-python",
   "name": "python",
   "nbconvert_exporter": "python",
   "pygments_lexer": "ipython3",
   "version": "3.9.12"
  }
 },
 "nbformat": 4,
 "nbformat_minor": 5
}
