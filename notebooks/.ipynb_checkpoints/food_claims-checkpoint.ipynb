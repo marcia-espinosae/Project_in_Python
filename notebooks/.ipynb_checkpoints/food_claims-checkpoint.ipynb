{
 "cells": [
  {
   "cell_type": "markdown",
   "id": "a5b3bc0e-b993-4ee3-bd07-825a474bd0d9",
   "metadata": {
    "tags": []
   },
   "source": [
    "# Data Analyst Associate Practical Exam Submission\n",
    "\n",
    "**You can use any tool that you want to do your analysis and create visualizations. Use this template to write up your summary for submission.**\n",
    "\n",
    "You can use any markdown formatting you wish. If you are not familiar with Markdown, read the [Markdown Guide](https://s3.amazonaws.com/talent-assets.datacamp.com/Markdown+Guide.pdf) before you start.\n",
    "\n"
   ]
  },
  {
   "cell_type": "code",
   "execution_count": 1,
   "id": "14a7fc56-b69b-448e-961c-b52cc0c87d50",
   "metadata": {
    "executionTime": 18,
    "lastSuccessfullyExecutedCode": "import numpy as np\nimport pandas as pd\nimport matplotlib.pyplot as plt\nimport seaborn as sns"
   },
   "outputs": [],
   "source": [
    "import numpy as np\n",
    "import pandas as pd\n",
    "import matplotlib.pyplot as plt\n",
    "import seaborn as sns"
   ]
  },
  {
   "cell_type": "code",
   "execution_count": 2,
   "id": "59066ee2-abb2-411e-8d5a-77e81472b2f0",
   "metadata": {
    "executionTime": 131,
    "lastSuccessfullyExecutedCode": "food = pd.read_csv('food_claims_2212.csv')\nfood.head()"
   },
   "outputs": [
    {
     "data": {
      "text/html": [
       "<div>\n",
       "<style scoped>\n",
       "    .dataframe tbody tr th:only-of-type {\n",
       "        vertical-align: middle;\n",
       "    }\n",
       "\n",
       "    .dataframe tbody tr th {\n",
       "        vertical-align: top;\n",
       "    }\n",
       "\n",
       "    .dataframe thead th {\n",
       "        text-align: right;\n",
       "    }\n",
       "</style>\n",
       "<table border=\"1\" class=\"dataframe\">\n",
       "  <thead>\n",
       "    <tr style=\"text-align: right;\">\n",
       "      <th></th>\n",
       "      <th>claim_id</th>\n",
       "      <th>time_to_close</th>\n",
       "      <th>claim_amount</th>\n",
       "      <th>amount_paid</th>\n",
       "      <th>location</th>\n",
       "      <th>individuals_on_claim</th>\n",
       "      <th>linked_cases</th>\n",
       "      <th>cause</th>\n",
       "    </tr>\n",
       "  </thead>\n",
       "  <tbody>\n",
       "    <tr>\n",
       "      <th>0</th>\n",
       "      <td>1</td>\n",
       "      <td>317</td>\n",
       "      <td>R$ 74474.55</td>\n",
       "      <td>51231.37</td>\n",
       "      <td>RECIFE</td>\n",
       "      <td>15</td>\n",
       "      <td>False</td>\n",
       "      <td>unknown</td>\n",
       "    </tr>\n",
       "    <tr>\n",
       "      <th>1</th>\n",
       "      <td>2</td>\n",
       "      <td>195</td>\n",
       "      <td>R$ 52137.83</td>\n",
       "      <td>42111.30</td>\n",
       "      <td>FORTALEZA</td>\n",
       "      <td>12</td>\n",
       "      <td>True</td>\n",
       "      <td>unknown</td>\n",
       "    </tr>\n",
       "    <tr>\n",
       "      <th>2</th>\n",
       "      <td>3</td>\n",
       "      <td>183</td>\n",
       "      <td>R$ 24447.2</td>\n",
       "      <td>23986.30</td>\n",
       "      <td>SAO LUIS</td>\n",
       "      <td>10</td>\n",
       "      <td>True</td>\n",
       "      <td>meat</td>\n",
       "    </tr>\n",
       "    <tr>\n",
       "      <th>3</th>\n",
       "      <td>4</td>\n",
       "      <td>186</td>\n",
       "      <td>R$ 29006.28</td>\n",
       "      <td>27942.72</td>\n",
       "      <td>FORTALEZA</td>\n",
       "      <td>11</td>\n",
       "      <td>False</td>\n",
       "      <td>meat</td>\n",
       "    </tr>\n",
       "    <tr>\n",
       "      <th>4</th>\n",
       "      <td>5</td>\n",
       "      <td>138</td>\n",
       "      <td>R$ 19520.6</td>\n",
       "      <td>16251.06</td>\n",
       "      <td>RECIFE</td>\n",
       "      <td>11</td>\n",
       "      <td>False</td>\n",
       "      <td>vegetable</td>\n",
       "    </tr>\n",
       "  </tbody>\n",
       "</table>\n",
       "</div>"
      ],
      "text/plain": [
       "   claim_id  time_to_close claim_amount  amount_paid   location  \\\n",
       "0         1            317  R$ 74474.55     51231.37     RECIFE   \n",
       "1         2            195  R$ 52137.83     42111.30  FORTALEZA   \n",
       "2         3            183   R$ 24447.2     23986.30   SAO LUIS   \n",
       "3         4            186  R$ 29006.28     27942.72  FORTALEZA   \n",
       "4         5            138   R$ 19520.6     16251.06     RECIFE   \n",
       "\n",
       "   individuals_on_claim linked_cases      cause  \n",
       "0                    15        False    unknown  \n",
       "1                    12         True    unknown  \n",
       "2                    10         True       meat  \n",
       "3                    11        False       meat  \n",
       "4                    11        False  vegetable  "
      ]
     },
     "execution_count": 2,
     "metadata": {},
     "output_type": "execute_result"
    }
   ],
   "source": [
    "food = pd.read_csv('../data/food_claims_2212.csv')\n",
    "food.head()"
   ]
  },
  {
   "cell_type": "code",
   "execution_count": 3,
   "id": "ce55d6dc-5a11-491a-96e2-0afab07d62c3",
   "metadata": {
    "executionTime": 15,
    "lastSuccessfullyExecutedCode": "food.info()"
   },
   "outputs": [
    {
     "name": "stdout",
     "output_type": "stream",
     "text": [
      "<class 'pandas.core.frame.DataFrame'>\n",
      "RangeIndex: 2000 entries, 0 to 1999\n",
      "Data columns (total 8 columns):\n",
      " #   Column                Non-Null Count  Dtype  \n",
      "---  ------                --------------  -----  \n",
      " 0   claim_id              2000 non-null   int64  \n",
      " 1   time_to_close         2000 non-null   int64  \n",
      " 2   claim_amount          2000 non-null   object \n",
      " 3   amount_paid           1964 non-null   float64\n",
      " 4   location              2000 non-null   object \n",
      " 5   individuals_on_claim  2000 non-null   int64  \n",
      " 6   linked_cases          1974 non-null   object \n",
      " 7   cause                 2000 non-null   object \n",
      "dtypes: float64(1), int64(3), object(4)\n",
      "memory usage: 125.1+ KB\n"
     ]
    }
   ],
   "source": [
    "food.info()"
   ]
  },
  {
   "cell_type": "code",
   "execution_count": 4,
   "id": "0f06ca2d-4531-4a05-b410-520c7111e5ae",
   "metadata": {
    "executionTime": 53,
    "lastSuccessfullyExecutedCode": "# Replace missing values (36) with the overall median claim amount/ column 'amount_paid'\noverall_median = food['amount_paid'].median()\nfood['amount_paid'].fillna(overall_median, inplace=True)\nmissing_count_amount_paid  = food['amount_paid'].isnull().sum()\nmissing_count_amount_paid"
   },
   "outputs": [
    {
     "data": {
      "text/plain": [
       "0"
      ]
     },
     "execution_count": 4,
     "metadata": {},
     "output_type": "execute_result"
    }
   ],
   "source": [
    "# Replace missing values (36) with the overall median claim amount/ column 'amount_paid'\n",
    "overall_median = food['amount_paid'].median()\n",
    "food['amount_paid'].fillna(overall_median, inplace=True)\n",
    "missing_count_amount_paid  = food['amount_paid'].isnull().sum()\n",
    "missing_count_amount_paid"
   ]
  },
  {
   "cell_type": "code",
   "execution_count": 5,
   "id": "9202370a-0dca-4525-ad6b-6c67731a6194",
   "metadata": {
    "executionTime": 15,
    "lastSuccessfullyExecutedCode": "# Replace missing values (26) with FALSE / column 'linked_cases'\nfood['linked_cases'].fillna(False, inplace=True)\nmissing_count_linked_cases  = food['linked_cases'].isnull().sum()\nmissing_count_linked_cases"
   },
   "outputs": [
    {
     "data": {
      "text/plain": [
       "0"
      ]
     },
     "execution_count": 5,
     "metadata": {},
     "output_type": "execute_result"
    }
   ],
   "source": [
    "# Replace missing values (26) with FALSE / column 'linked_cases'\n",
    "food['linked_cases'].fillna(False, inplace=True)\n",
    "missing_count_linked_cases  = food['linked_cases'].isnull().sum()\n",
    "missing_count_linked_cases"
   ]
  },
  {
   "cell_type": "code",
   "execution_count": 6,
   "id": "5179e2db-1581-4865-91b8-a8b47a527581",
   "metadata": {
    "executionTime": 67,
    "lastSuccessfullyExecutedCode": "food['claim_id'].duplicated().sum()"
   },
   "outputs": [
    {
     "data": {
      "text/plain": [
       "0"
      ]
     },
     "execution_count": 6,
     "metadata": {},
     "output_type": "execute_result"
    }
   ],
   "source": [
    "food['claim_id'].duplicated().sum()"
   ]
  },
  {
   "cell_type": "markdown",
   "id": "a882faeb-a9fd-4bf4-abc3-5d9a288dd8ba",
   "metadata": {},
   "source": [
    "## Task 1"
   ]
  },
  {
   "cell_type": "markdown",
   "id": "714a7083-7a43-4b0b-8ed4-2675efc87691",
   "metadata": {
    "tags": []
   },
   "source": [
    "There are 2000 entries, 0 to 1999\n",
    "Data columns (total 8 columns)\n",
    "The values of every column match the description given in the table\n",
    "The column that have missing values are:\n",
    "'amount_paid' = 36, Replace with the overall median claim amount \n",
    "'linked_cases' = 26, Replace with FALSE"
   ]
  },
  {
   "cell_type": "markdown",
   "id": "2be771c0-d412-414c-aead-1c266fce9a2b",
   "metadata": {},
   "source": []
  },
  {
   "cell_type": "markdown",
   "id": "9c64b5ee-9e6b-4a05-b974-69201290bd41",
   "metadata": {},
   "source": [
    "2) Create a visualization that shows the number of claims in each location. Use the visualization to:\n",
    "a. State which category of the variable location has the most observations\n",
    "b. Explain whether the observations are balanced across categories of the\n",
    "variable location"
   ]
  },
  {
   "cell_type": "code",
   "execution_count": 7,
   "id": "2d92c6af-fb50-4e58-b432-9066745fbaec",
   "metadata": {
    "executionTime": 323,
    "lastSuccessfullyExecutedCode": "\n# Group the data by location and count the number of claims\nclaim_by_location = food.groupby('location')['claim_id'].count()\n\n# Create a bar plot\nplt.bar(claim_by_location.index, claim_by_location.values)\nplt.xlabel('Location')\nplt.ylabel('Number of Claim')\nplt.title('Number of Claim in Each Location')\n# Add the number values to the bars\nfor i, v in enumerate(claim_by_location.values):\n    plt.text(i, v, str(v), ha='center', va='bottom')\nplt.show()"
   },
   "outputs": [
    {
     "data": {
      "image/png": "[encoded data removed]",
      "text/plain": [
       "<Figure size 432x288 with 1 Axes>"
      ]
     },
     "metadata": {
      "needs_background": "light"
     },
     "output_type": "display_data"
    }
   ],
   "source": [
    "\n",
    "# Group the data by location and count the number of claims\n",
    "claim_by_location = food.groupby('location')['claim_id'].count()\n",
    "\n",
    "# Create a bar plot\n",
    "plt.bar(claim_by_location.index, claim_by_location.values)\n",
    "plt.xlabel('Location')\n",
    "plt.ylabel('Number of Claim')\n",
    "plt.title('Number of Claim in Each Location')\n",
    "# Add the number values to the bars\n",
    "for i, v in enumerate(claim_by_location.values):\n",
    "    plt.text(i, v, str(v), ha='center', va='bottom')\n",
    "plt.show()"
   ]
  },
  {
   "cell_type": "markdown",
   "id": "643d4c36-4183-4fbe-a263-6b9de60d29da",
   "metadata": {},
   "source": [
    "## Task 2"
   ]
  },
  {
   "cell_type": "markdown",
   "id": "1d5ba38c-1b3a-4f9b-bf38-bb0a62dac346",
   "metadata": {},
   "source": [
    "Conclusion: \"RECIFE\" has the highest number of claims, followed by \"SAO LUIS\", \"FORTALEZA\", and \"NATAL\".\n",
    "There is a significant difference in counts across categories, the observations may be unbalanced, indicates that the distribution of claims is not evenly distributed across all locations."
   ]
  },
  {
   "cell_type": "markdown",
   "id": "c25dd798-ae47-42d1-b6c7-7c8b9a48751f",
   "metadata": {},
   "source": []
  },
  {
   "cell_type": "markdown",
   "id": "cf7533de-a0d2-4c27-9e57-a1ff3c4fef02",
   "metadata": {},
   "source": [
    "3) Describe the distribution of time to close for all claims. Your answer must include a visualization that shows the distribution."
   ]
  },
  {
   "cell_type": "code",
   "execution_count": 8,
   "id": "fcd46384-1641-4d6f-b010-185bb9ec8823",
   "metadata": {
    "executionTime": 173,
    "lastSuccessfullyExecutedCode": "# Calculate the statistics\nmedian = food['time_to_close'].median()\nminimum = food['time_to_close'].min()\nmaximum = food['time_to_close'].max()\n\n# Creating a box plot of time to close\nsns.boxplot(x=food['time_to_close'])\n\n# Adding labels and title to the plot\nplt.xlabel('Time to Close (Days)')\nplt.title('Distribution of Time_to_Close for Claims')\n\n# Displaying the plot\nplt.show()\nprint(median, minimum, maximum)"
   },
   "outputs": [
    {
     "data": {
      "image/png": "[encoded data removed]",
      "text/plain": [
       "<Figure size 432x288 with 1 Axes>"
      ]
     },
     "metadata": {
      "needs_background": "light"
     },
     "output_type": "display_data"
    },
    {
     "name": "stdout",
     "output_type": "stream",
     "text": [
      "179.0 76 518\n"
     ]
    }
   ],
   "source": [
    "# Calculate the statistics\n",
    "median = food['time_to_close'].median()\n",
    "minimum = food['time_to_close'].min()\n",
    "maximum = food['time_to_close'].max()\n",
    "\n",
    "# Creating a box plot of time to close\n",
    "sns.boxplot(x=food['time_to_close'])\n",
    "\n",
    "# Adding labels and title to the plot\n",
    "plt.xlabel('Time to Close (Days)')\n",
    "plt.title('Distribution of Time_to_Close for Claims')\n",
    "\n",
    "# Displaying the plot\n",
    "plt.show()\n",
    "print(median, minimum, maximum)"
   ]
  },
  {
   "cell_type": "markdown",
   "id": "38869f7f-11ea-458b-8bf0-fc99377abdb4",
   "metadata": {},
   "source": [
    "## Task 3"
   ]
  },
  {
   "cell_type": "markdown",
   "id": "8fcff247-db49-42c0-8710-51848aeb6347",
   "metadata": {},
   "source": [
    "conclusion: The median days is located at 179 days. This means that 50% of the claims take less than 179 days to close, while the other 50% take longer. The minimum value is 76 days, indicating the shortest time it takes to close a claim. The maximum value is 518 days, representing the longest time it takes to close a claim. By considering the positioning of the median and observing the range of values, we can infer that the distribution of time to close claims is slightly right-skewed, with a concentration of values towards longer durations."
   ]
  },
  {
   "cell_type": "markdown",
   "id": "ad56f3f4-c9a6-4583-ad01-515d31c8434e",
   "metadata": {},
   "source": []
  },
  {
   "cell_type": "markdown",
   "id": "4bad27b9-2444-4d99-be8f-bff7e7dfe5d5",
   "metadata": {},
   "source": [
    "4) Describe the relationship between time to close and location. Your answer must\n",
    "include a visualization to demonstrate the relationship."
   ]
  },
  {
   "cell_type": "code",
   "execution_count": 9,
   "id": "17d591e2-bfef-4837-94c5-d6395d50fed2",
   "metadata": {
    "executionTime": 422,
    "lastSuccessfullyExecutedCode": "food.groupby('location')['time_to_close'].median()\nfood.groupby('location')['time_to_close'].max()\nfood.groupby('location')['time_to_close'].min()\n# Create the box plot\nplt.figure(figsize=(10, 6))\nsns.boxplot(x=food['location'], y=food['time_to_close'])\n\n# Set the labels and title\nplt.xlabel('Location')\nplt.ylabel('Time to Close (days)')\nplt.title('Relationship between Time to Close and Location')\n\n# Rotate the x-axis labels for better readability\nplt.xticks(rotation=45)\n\n# Show the plot\nplt.show()\nprint(f\"Median for each: {food.groupby('location')['time_to_close'].median()}\")\nprint(f\"Maximum for each: {food.groupby('location')['time_to_close'].max()}\")\nprint(f\"Minimum for each: {food.groupby('location')['time_to_close'].min()}\")"
   },
   "outputs": [
    {
     "data": {
      "image/png": "[encoded data removed]",
      "text/plain": [
       "<Figure size 720x432 with 1 Axes>"
      ]
     },
     "metadata": {
      "needs_background": "light"
     },
     "output_type": "display_data"
    },
    {
     "name": "stdout",
     "output_type": "stream",
     "text": [
      "Median for each: location\n",
      "FORTALEZA    180.0\n",
      "NATAL        179.0\n",
      "RECIFE       178.0\n",
      "SAO LUIS     179.0\n",
      "Name: time_to_close, dtype: float64\n",
      "Maximum for each: location\n",
      "FORTALEZA    453\n",
      "NATAL        361\n",
      "RECIFE       427\n",
      "SAO LUIS     518\n",
      "Name: time_to_close, dtype: int64\n",
      "Minimum for each: location\n",
      "FORTALEZA    76\n",
      "NATAL        93\n",
      "RECIFE       82\n",
      "SAO LUIS     84\n",
      "Name: time_to_close, dtype: int64\n"
     ]
    }
   ],
   "source": [
    "food.groupby('location')['time_to_close'].median()\n",
    "food.groupby('location')['time_to_close'].max()\n",
    "food.groupby('location')['time_to_close'].min()\n",
    "# Create the box plot\n",
    "plt.figure(figsize=(10, 6))\n",
    "sns.boxplot(x=food['location'], y=food['time_to_close'])\n",
    "\n",
    "# Set the labels and title\n",
    "plt.xlabel('Location')\n",
    "plt.ylabel('Time to Close (days)')\n",
    "plt.title('Relationship between Time to Close and Location')\n",
    "\n",
    "# Rotate the x-axis labels for better readability\n",
    "plt.xticks(rotation=45)\n",
    "\n",
    "# Show the plot\n",
    "plt.show()\n",
    "print(f\"Median for each: {food.groupby('location')['time_to_close'].median()}\")\n",
    "print(f\"Maximum for each: {food.groupby('location')['time_to_close'].max()}\")\n",
    "print(f\"Minimum for each: {food.groupby('location')['time_to_close'].min()}\")"
   ]
  },
  {
   "cell_type": "markdown",
   "id": "c5fbe3a0-d277-437c-a1a0-f1edf80684f7",
   "metadata": {},
   "source": [
    "## Task 4"
   ]
  },
  {
   "cell_type": "markdown",
   "id": "170dd2ea-340f-4ab4-94c8-fe077342e98e",
   "metadata": {},
   "source": [
    "conclusion: There is a relatively similar median time to close across the different locations. The median values for FORTALEZA, NATAL, and SAO LUIS are all around 179-180 days, while RECIFE has a slightly lower median of 178.0 days. However, there is variation in the maximum and minimum time to close, indicating that some claims in each location take longer or shorter periods to be closed."
   ]
  },
  {
   "cell_type": "markdown",
   "id": "f635131a-00f8-44dd-b610-509db41c1154",
   "metadata": {
    "tags": []
   },
   "source": [
    "## ✅ When you have finished...\n",
    "-  Publish your Workspace using the option on the left\n",
    "-  Check the published version of your report:\n",
    "\t-  Can you see everything you want us to grade?\n",
    "    -  Are all the graphics visible?\n",
    "-  Review the grading rubric. Have you included everything that will be graded?\n",
    "-  Head back to the [Certification Dashboard](https://app.datacamp.com/certification) to submit your practical exam"
   ]
  }
 ],
 "metadata": {
  "colab": {
   "name": "Welcome to DataCamp Workspaces.ipynb",
   "provenance": []
  },
  "kernelspec": {
   "display_name": "Python 3 (ipykernel)",
   "language": "python",
   "name": "python3"
  },
  "language_info": {
   "codemirror_mode": {
    "name": "ipython",
    "version": 3
   },
   "file_extension": ".py",
   "mimetype": "text/x-python",
   "name": "python",
   "nbconvert_exporter": "python",
   "pygments_lexer": "ipython3",
   "version": "3.9.12"
  }
 },
 "nbformat": 4,
 "nbformat_minor": 5
}
