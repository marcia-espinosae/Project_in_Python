{
 "cells": [
  {
   "cell_type": "code",
   "execution_count": 1,
   "id": "ec52c270-3415-4373-ba23-25c344c869bc",
   "metadata": {},
   "outputs": [],
   "source": [
    "# import psycopg2\n",
    "import numpy as np\n",
    "import pandas as pd\n",
    "# from datetime import datetime\n",
    "# import matplotlib.pyplot as plt"
   ]
  },
  {
   "cell_type": "code",
   "execution_count": 2,
   "id": "2fe6b2ed-9b77-4ff6-a21b-3dc0e976812b",
   "metadata": {},
   "outputs": [
    {
     "data": {
      "text/plain": [
       "(49211, 41)"
      ]
     },
     "execution_count": 2,
     "metadata": {},
     "output_type": "execute_result"
    }
   ],
   "source": [
    "cohort = pd.read_csv('cohort.csv')\n",
    "cohort.shape"
   ]
  },
  {
   "cell_type": "code",
   "execution_count": 3,
   "id": "5caab4d4-9f9f-418d-965d-0c7d0a5928e4",
   "metadata": {},
   "outputs": [
    {
     "name": "stdout",
     "output_type": "stream",
     "text": [
      "<class 'pandas.core.frame.DataFrame'>\n",
      "RangeIndex: 49211 entries, 0 to 49210\n",
      "Data columns (total 41 columns):\n",
      " #   Column                   Non-Null Count  Dtype  \n",
      "---  ------                   --------------  -----  \n",
      " 0   user_id                  49211 non-null  int64  \n",
      " 1   birthdate                49211 non-null  object \n",
      " 2   gender                   49211 non-null  object \n",
      " 3   married                  49211 non-null  bool   \n",
      " 4   has_children             49211 non-null  bool   \n",
      " 5   home_country             49211 non-null  object \n",
      " 6   home_city                49211 non-null  object \n",
      " 7   home_airport             49211 non-null  object \n",
      " 8   home_airport_lat         49211 non-null  float64\n",
      " 9   home_airport_lon         49211 non-null  float64\n",
      " 10  sign_up_date             49211 non-null  object \n",
      " 11  session_id               49211 non-null  object \n",
      " 12  trip_id                  16702 non-null  object \n",
      " 13  session_start            49211 non-null  object \n",
      " 14  session_end              49211 non-null  object \n",
      " 15  flight_discount          49211 non-null  bool   \n",
      " 16  hotel_discount           49211 non-null  bool   \n",
      " 17  flight_discount_amount   8282 non-null   float64\n",
      " 18  hotel_discount_amount    6205 non-null   float64\n",
      " 19  flight_booked            49211 non-null  bool   \n",
      " 20  hotel_booked             49211 non-null  bool   \n",
      " 21  page_clicks              49211 non-null  int64  \n",
      " 22  cancellation             49211 non-null  bool   \n",
      " 23  origin_airport           14270 non-null  object \n",
      " 24  destination              14270 non-null  object \n",
      " 25  destination_airport      14270 non-null  object \n",
      " 26  seats                    14270 non-null  float64\n",
      " 27  return_flight_booked     14270 non-null  object \n",
      " 28  departure_time           14270 non-null  object \n",
      " 29  return_time              13652 non-null  object \n",
      " 30  checked_bags             14270 non-null  float64\n",
      " 31  trip_airline             14270 non-null  object \n",
      " 32  destination_airport_lat  14270 non-null  float64\n",
      " 33  destination_airport_lon  14270 non-null  float64\n",
      " 34  base_fare_usd            14270 non-null  float64\n",
      " 35  hotel_name               14726 non-null  object \n",
      " 36  nights                   14726 non-null  float64\n",
      " 37  rooms                    14726 non-null  float64\n",
      " 38  check_in_time            14726 non-null  object \n",
      " 39  check_out_time           14726 non-null  object \n",
      " 40  hotel_per_room_usd       14726 non-null  float64\n",
      "dtypes: bool(7), float64(12), int64(2), object(20)\n",
      "memory usage: 13.1+ MB\n"
     ]
    }
   ],
   "source": [
    "cohort.info()"
   ]
  },
  {
   "cell_type": "code",
   "execution_count": 4,
   "id": "b754eeaf-fe33-4e8b-8150-54e0bb851e85",
   "metadata": {},
   "outputs": [],
   "source": [
    "cohort = cohort.drop(columns=[col for col in cohort.columns if 'Unnamed' in col])"
   ]
  },
  {
   "cell_type": "code",
   "execution_count": 34,
   "id": "452df466-85a8-43fa-8347-ee6021b8637b",
   "metadata": {},
   "outputs": [],
   "source": [
    "# Define a function to calculate Haversine distance\n",
    "def haversine(lat1, lon1, lat2, lon2):\n",
    "    # Radius of the Earth in kilometers\n",
    "    R = 6371.0\n",
    "    \n",
    "    # Convert latitude and longitude from degrees to radians\n",
    "    lat1, lon1, lat2, lon2 = np.radians([lat1, lon1, lat2, lon2])\n",
    "    \n",
    "    # Haversine formula\n",
    "    dlon = lon2 - lon1\n",
    "    dlat = lat2 - lat1\n",
    "    \n",
    "    a = np.sin(dlat / 2)**2 + np.cos(lat1) * np.cos(lat2) * np.sin(dlon / 2)**2\n",
    "    c = 2 * np.arctan2(np.sqrt(a), np.sqrt(1 - a))\n",
    "    \n",
    "    distance = R * c\n",
    "    \n",
    "    return distance\n",
    "\n",
    "# Apply the haversine function to create a new column 'haversine_distance'\n",
    "cohort['haversine_distance'] = cohort.apply(\n",
    "    lambda row: haversine(\n",
    "        row['home_airport_lat'], row['home_airport_lon'],\n",
    "        row['destination_airport_lat'], row['destination_airport_lon']\n",
    "    ),\n",
    "    axis=1\n",
    ")\n"
   ]
  }
 ],
 "metadata": {
  "kernelspec": {
   "display_name": "Python 3 (ipykernel)",
   "language": "python",
   "name": "python3"
  },
  "language_info": {
   "codemirror_mode": {
    "name": "ipython",
    "version": 3
   },
   "file_extension": ".py",
   "mimetype": "text/x-python",
   "name": "python",
   "nbconvert_exporter": "python",
   "pygments_lexer": "ipython3",
   "version": "3.9.12"
  }
 },
 "nbformat": 4,
 "nbformat_minor": 5
}
